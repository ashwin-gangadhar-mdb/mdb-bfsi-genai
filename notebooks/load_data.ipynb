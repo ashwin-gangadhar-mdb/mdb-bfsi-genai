{
 "cells": [
  {
   "cell_type": "code",
   "execution_count": 37,
   "metadata": {},
   "outputs": [],
   "source": [
    "import pandas as pd\n",
    "from pymongo import MongoClient\n",
    "from dotenv import load_dotenv\n",
    "import os\n",
    "from tqdm import tqdm\n",
    "from langchain.chat_models import ChatOpenAI\n",
    "from langchain.chains.llm import LLMChain\n",
    "from langchain.prompts import PromptTemplate\n",
    "from langchain.chains.mapreduce import MapReduceChain\n",
    "from langchain.text_splitter import RecursiveCharacterTextSplitter\n",
    "from langchain.chains import MapReduceDocumentsChain,ReduceDocumentsChain\n",
    "from langchain.chains.combine_documents.stuff import StuffDocumentsChain\n",
    "import requests\n",
    "import glob\n",
    "from bs4 import BeautifulSoup\n",
    "\n",
    "load_dotenv()\n",
    "MONGO_CONN=os.environ.get(\"MONGO_CONNECTION_STRING\")\n",
    "client = MongoClient(MONGO_CONN)\n",
    "col = client[\"bfsi-genai\"][\"credit_history\"]\n",
    "vcol = client[\"bfsi-genai\"][\"cc_products\"]\n",
    "\n",
    "# Define prompt\n",
    "prompt_template = \"\"\"Write a concise summary of the following in exactly 4000 words:\n",
    "\"{text}\"\n",
    "Point by Point SUMMARY of Credit card mentioned Above:\"\"\"\n",
    "prompt = PromptTemplate.from_template(prompt_template)\n",
    "llm = ChatOpenAI(temperature=0, model_name=\"gpt-3.5-turbo-16k\")\n",
    "llm_chain = LLMChain(llm=llm, prompt=prompt)\n",
    "\n",
    "\n",
    "# Define StuffDocumentsChain\n",
    "stuff_chain = StuffDocumentsChain(\n",
    "    llm_chain=llm_chain, document_variable_name=\"text\"\n",
    ")"
   ]
  },
  {
   "cell_type": "code",
   "execution_count": 5,
   "metadata": {},
   "outputs": [
    {
     "data": {
      "text/plain": [
       "<pymongo.results.InsertManyResult at 0x12fc80ca0>"
      ]
     },
     "execution_count": 5,
     "metadata": {},
     "output_type": "execute_result"
    }
   ],
   "source": [
    "df = pd.read_csv(\"data/cs-training.csv\")\n",
    "df[\"MonthlyIncome\"] = df[\"MonthlyIncome\"]*25\n",
    "\n",
    "recs = df.to_dict(orient=\"records\")\n",
    "col.insert_many(recs)"
   ]
  },
  {
   "cell_type": "code",
   "execution_count": 38,
   "metadata": {},
   "outputs": [],
   "source": [
    "from langchain.docstore.document import Document\n",
    "url = \"https://www.tengenbank.com/personal/pay/cards/credit-cards/marriott-bonvoy-credit-card\"\n",
    "def parser(url,i=-1):\n",
    "    response = requests.get(url)\n",
    "    page_content = response.content\n",
    "    soup = BeautifulSoup(page_content, 'html.parser')\n",
    "    products = soup.find('div', {\"class\": \"main-content\"})\n",
    "    return [Document(metadata={\"source\": url,\"title\": url.split(\"/\")[i]},page_content=products.text)]"
   ]
  },
  {
   "cell_type": "code",
   "execution_count": 40,
   "metadata": {},
   "outputs": [],
   "source": [
    "from langchain.text_splitter import RecursiveCharacterTextSplitter\n",
    "text_splitter = RecursiveCharacterTextSplitter(\n",
    "    chunk_size = 1000,\n",
    "    chunk_overlap  = 100,\n",
    ")\n",
    "\n",
    "def parse_n_load(url):\n",
    "    op = []\n",
    "    try:\n",
    "        op = parser(url)\n",
    "        try:\n",
    "            op += parser(url+\"/eligibility\",-2)\n",
    "        except:\n",
    "            print(f\"Failed to Parse Eligibility {url}\")\n",
    "        op += parser(url+\"/fees-and-charges\",-2)\n",
    "    except:\n",
    "        print(f\"Failed to Parse Entire {url}\")\n",
    "    return op\n",
    "\n",
    "def summarize_docs(docs):\n",
    "    return stuff_chain.run(docs)\n",
    "\n",
    "def get_data(url):\n",
    "    data = parse_n_load(url)\n",
    "    docs = text_splitter.split_documents(data)\n",
    "    summary = summarize_docs(docs)\n",
    "    doc = [Document(metadata={\"source\": url,\"title\": url.split(\"/\")[-1]},page_content=summary)]\n",
    "    return doc"
   ]
  },
  {
   "cell_type": "markdown",
   "metadata": {},
   "source": [
    "# Split the long text and Summarize"
   ]
  },
  {
   "cell_type": "code",
   "execution_count": 41,
   "metadata": {},
   "outputs": [
    {
     "name": "stdout",
     "output_type": "stream",
     "text": [
      "Features Reward Type Reward Type Marriott Bonvoy Points Features Features 1 Free Night Award on Joining fee realization10 Elite Night Credits (ENCs) under the Marriott Bonvoy ProgramComplimentary Marriott Bonvoy Silver Elite StatusEarn 8 Marriott Bonvoy Points per Rs.\n",
      " 150 spent at hotels participating in Marriott Bonvoy*Earn 4 Marriott Bonvoy Points per Rs.\n",
      " 150 spent on travel, dining & entertainment*Earn 2 Marriott Bonvoy Points per Rs.\n",
      " 150 spent on all other applicable purchases*Complimentary Golf Access 2 per quarter across the world (Green Fee Waiver)Marriott Bonvoy Points will not be accrued for the following non-core product features categories:FuelSmart EMI / Dial an EMI transactionWallet loads / Gift or Prepaid Card load/ Voucher purchaseCash AdvancesPayment of Outstanding BalancesPayment of card fees and other chargesGovernment related transactions & Rental transactions*Click here to view detailed Terms and Conditions**Click here to view detailed Terms and Conditions on Golf Lounge access Additional Features Additional Features Zero Lost card liability: In the unfortunate event of losing your Marriott Bonvoy 10gen Bank Credit Card, on reporting it immediately to our 24-hour call centre, you have zero liability on any fraudulent transactions made on your Credit card.\n",
      "Foreign Currency Markup: 3.\n",
      "5% on all your foreign currency spendsRevolving Credit: Enjoy Revolving Credit on your Marriott Bonvoy 10gen Bank Credit Card at nominal interest rate.\n",
      " Refer to the Fees and Charges section to know more.\n",
      " Lounge Access Lounge Access 12 Complimentary access within India (both at domestic and international terminals) using the Marriott Bonvoy 10gen Bank Credit Card each year12 Complimentary access outside India using the Marriott Bonvoy 10gen Bank Credit Card each year​View list of Domestic and International Lounges on DCI travel tool app​ Welcome Benefit Welcome Benefit 1 Free Night Award on Joining fee realization (up to a value of 15,000 Marriott Bonvoy Points)Complimentary Marriott Bonvoy Silver Elite Status10 Elite Night Credits (ENCs) under the Marriott Bonvoy ProgramFor detailed Terms and Conditions click here Milestone Benefit Milestone Benefit 1 Free Night Award on Eligible Spend of INR 6 lakhs in an Anniversary Year1 Free Night Award on Eligible Spend of INR 9 lakhs in an Anniversary Year1 Free Night Award on Eligible Spend of INR 15 lakhs in an Anniversary YearNote:Each Free Night Award (valid for 12months) can be redeemed for a one-night stay, inclusive of room rate and applicable taxes, at hotels participating in Marriott Bonvoy with a redemption level up to 15,000 Marriott Bonvoy Points.\n",
      "To know more about Milestone Benefit click here Insurance/Comprehensive protection & Nominee details for Insurance Insurance/Comprehensive protection & Nominee details for Insurance 1.\n",
      " Delay or loss of checked-in baggage cover of up to $2502.\n",
      " Loss of travel documents cover of up to $2503.\n",
      " Flight delay cover of up to $2504.\n",
      " Air accidental cover of up to $12,5005.\n",
      " Emergency medical expenses up to $18,7506.\n",
      " Credit shield of up to INR100,0007.\n",
      " Loss liability cover of up to INR100,000Click here to update your nominee detailsClick here to know more about insurance details Reward Point/CashBack Redemption & Validity Reward Point/CashBack Redemption & Validity Reward Points AccrualEarn 8 Marriott Bonvoy Points per Rs.\n",
      " 150 spent at hotels participating in Marriott Bonvoy*Earn 4 Marriott Bonvoy Points per Rs.\n",
      " 150 spent on travel, dining & entertainment*Earn 2 Marriott Bonvoy Points per Rs.\n",
      " 150 spent on all other appliacble purchases*Reward Points RedemptionThe cardholders can redeem their Marriott Bonvoy points to book a stay at properties participating in Marriott Bonvoy, Marriott Bonvoy Moments™ experiences, travel and more.\n",
      "Note:*To view details on Terms and Conditions of all other spends click hereMarriott Bonvoy Points and Award Redemptions may not be exchanged or redeemed by a member for cash, prizes or credit.\n",
      "Points posted as the result of a\n",
      "2 Marriott Bonvoy Points per Rs.\n",
      " 150 spent on all other appliacble purchases*Reward Points RedemptionThe cardholders can redeem their Marriott Bonvoy points to book a stay at properties participating in Marriott Bonvoy, Marriott Bonvoy Moments™ experiences, travel and more.\n",
      "Note:*To view details on Terms and Conditions of all other spends click hereMarriott Bonvoy Points and Award Redemptions may not be exchanged or redeemed by a member for cash, prizes or credit.\n",
      "Points posted as the result of a transfer or earned from the use of credit cards may not be redeemable for certain Award Redemptions.\n",
      "To know more about Redemption and Validity of Marriott Bonvoy Points click here Concierge Concierge Enjoy the exclusive Concierge Services on your Marriott Bonvoy 10gen Bank Credit Card.\n",
      " Customers can connect the concierge number from 9a.\n",
      "m-9p.\n",
      "m.\n",
      "Toll Free: 18003093100 Email: support@marriott10genbank.\n",
      "com10gen Bank Customer Service24*7 Helpline-Toll Free: 1800 266 3310Landline: 022-6171 7606 (For customers travelling overseas) Smart EMI Smart EMI Marriott Bonvoy 10gen Bank Credit Card comes with an option to convert your big spends into EMI after purchase.\n",
      " To know more about Smart EMI click here Contactless Payment Contactless Payment The Marriott Bonvoy 10gen Bank Credit Card is enabled for contactless payments, facilitating fast, convenient, and secure payments at retail outlets.\n",
      "Please note that in India, payment through contactless mode is allowed for a maximum of Rs.\n",
      " 5000 for a single transaction where you are not asked to input your Credit Card PIN.\n",
      " However, if the amount is higher than or equal to Rs.\n",
      " 5000, the Card holder has to enter the Credit Card PIN for security reasons.\n",
      " FAQs Eligibility Fees and charges\n",
      "Features Eligibility Marriott Bonvoy 10gen Bank Credit Card Eligibility:Salaried Indian National:Age: Min 21 years & Max 60 YearsGross Monthly Income> Rs 1,00,000Self Employed Indian National:Age: Min 21 years & Max 65 YearsIncome: ITR > Rs 15 Lakhs per annum.\n",
      "Please note that the eligibility criteria are subjective and at Bank’s sole discretion.\n",
      " This can be changed basis Bank’s internal Risk management policies.\n",
      " Fees and charges\n",
      "Features Eligibility Fees and charges Joining/ Renewal Membership Fee of Rs.\n",
      " 3000 + Applicable Taxes.\n",
      "Click here to view details of Fees and Charges on Marriott Bonvoy 10gen Bank Credit CardWelcome Benefit of 1 Complimentary Night Award is applicable only after the joining fee is realized\n"
     ]
    }
   ],
   "source": [
    "\n",
    "text_splitter = RecursiveCharacterTextSplitter(\n",
    "    chunk_size = 4000,\n",
    "    chunk_overlap  = 500,\n",
    ")\n",
    "op = parser(url)\n",
    "op += parser(url+\"/eligibility\",-2)\n",
    "op += parser(url+\"/fees-and-charges\",-2)\n",
    "details = text_splitter.split_documents(op)\n",
    "for detail in details:\n",
    "    print(detail.page_content.replace(\".\", \".\\n\"))\n"
   ]
  },
  {
   "cell_type": "code",
   "execution_count": 42,
   "metadata": {},
   "outputs": [
    {
     "name": "stdout",
     "output_type": "stream",
     "text": [
      "The Marriott Bonvoy 10gen Bank Credit Card offers various features and rewards.\n",
      " Upon joining, cardholders receive a free night award, 10 Elite Night Credits, and complimentary Marriott Bonvoy Silver Elite Status.\n",
      " They can earn 8 Marriott Bonvoy Points per Rs.\n",
      " 150 spent at participating hotels, 4 points per Rs.\n",
      " 150 spent on travel, dining, and entertainment, and 2 points per Rs.\n",
      " 150 spent on other purchases.\n",
      " Cardholders also receive complimentary golf access and lounge access within India and internationally.\n",
      " Additional features include zero lost card liability and a foreign currency markup of 3.\n",
      "5%.\n",
      " Milestone benefits include free night awards based on eligible spend.\n",
      " The card also offers insurance coverage and the ability to redeem points for stays, experiences, and travel.\n",
      " Cardholders can access concierge services, use Smart EMI for converting big spends into EMI, and make contactless payments.\n",
      " The eligibility criteria for the card include a minimum age of 21 years and a gross monthly income of over Rs.\n",
      " 1,00,000 for salaried individuals or an annual income tax return of over Rs.\n",
      " 15 lakhs for self-employed individuals.\n",
      " The joining/renewal membership fee is Rs.\n",
      " 3000 + applicable taxes.\n",
      " The welcome benefit of a complimentary night award is applicable after the joining fee is realized.\n",
      "\n"
     ]
    }
   ],
   "source": [
    "print(summarize_docs(details).replace(\".\", \".\\n\"))\n"
   ]
  },
  {
   "cell_type": "code",
   "execution_count": 2,
   "metadata": {},
   "outputs": [],
   "source": [
    "docs = []\n",
    "results = [\"https://www.tengenbank.com/personal/pay/cards/credit-cards/marriott-bonvoy-credit-card\",\"https://www.tengenbank.com/personal/pay/cards/credit-cards/swiggy-hdfc-bank-credit-card\",\"https://www.tengenbank.com/personal/pay/cards/credit-cards/regalia-gold-credit-card\",\"https://www.tengenbank.com/personal/pay/cards/credit-cards/irctc-credit-card\",\"https://www.tengenbank.com/personal/pay/cards/credit-cards/hdfc-bank-upi-rupay-credit-card\",\"https://www.tengenbank.com/personal/pay/cards/credit-cards/diners-privilege\",\"https://www.tengenbank.com/personal/pay/cards/credit-cards/moneyback-plus\",\"https://www.tengenbank.com/personal/pay/cards/credit-cards/freedom-card-new\",\"https://www.tengenbank.com/personal/pay/cards/credit-cards/indianoil-hdfc-bank-credit-card\",\"https://www.tengenbank.com/personal/pay/cards/credit-cards/infinia-credit-card\",\"https://www.tengenbank.com/personal/pay/cards/credit-cards/diners-club-black\",\"https://www.tengenbank.com/personal/pay/cards/credit-cards/tata-neu-infinity-hdfc-bank-credit-card\",\"https://www.tengenbank.com/personal/pay/cards/credit-cards/tata-neu-plus-hdfc-bank-credit-card\",\"https://www.tengenbank.com/personal/pay/cards/credit-cards/shoppers-stop-hdfc-bank-credit-card\",\"https://www.tengenbank.com/personal/pay/cards/credit-cards/shoppers-stop-black-hdfc-bank-credit-card\",\"https://www.tengenbank.com/personal/pay/cards/credit-cards/paytm-hdfc-bank-credit-card\",\"https://www.tengenbank.com/personal/pay/cards/credit-cards/paytm-hdfc-bank-select-credit-card\",\"https://www.tengenbank.com/personal/pay/cards/credit-cards/paytm-hdfc-bank-mobile-credit-card\",\"https://www.tengenbank.com/personal/pay/cards/credit-cards/paytm-hdfc-bank-digital-credit-card\",\"https://www.tengenbank.com/personal/pay/cards/credit-cards/platinum-times-credit-card\",\"https://www.tengenbank.com/personal/pay/cards/credit-cards/titanium-times-credit-card\",\"https://www.tengenbank.com/personal/pay/cards/credit-cards/6e-rewards-indigo-hdfc-bank-credit-card\",\"https://www.tengenbank.com/personal/pay/cards/credit-cards/6e-rewards-xl-indigo-hdfc-bank-credit-card\",\"https://www.tengenbank.com/personal/pay/cards/credit-cards/all-miles-card\",\"https://www.tengenbank.com/personal/pay/cards/credit-cards/freedom-card\",\"https://www.tengenbank.com/personal/pay/cards/credit-cards/bharat-credit-card\",\"https://www.tengenbank.com/personal/pay/cards/credit-cards/diners-club-premium\",\"https://www.tengenbank.com/personal/pay/cards/credit-cards/diners-club-rewardz\",\"https://www.tengenbank.com/personal/pay/cards/credit-cards/doctors-regalia\",\"https://www.tengenbank.com/personal/pay/cards/credit-cards/doctors-superia\",\"https://www.tengenbank.com/personal/pay/cards/credit-cards/jetprivilege-hdfc-bank-titanium-credit-card\",\"https://www.tengenbank.com/personal/pay/cards/credit-cards/platinum-edge\",\"https://www.tengenbank.com/personal/pay/cards/credit-cards/platinum-plus\",\"https://www.tengenbank.com/personal/pay/cards/credit-cards/solitaire\",\"https://www.tengenbank.com/personal/pay/cards/credit-cards/superia\",\"https://www.tengenbank.com/personal/pay/cards/credit-cards/teachers-platinum\",\"https://www.tengenbank.com/personal/pay/cards/credit-cards/titanium-edge\",\"https://www.tengenbank.com/personal/pay/cards/credit-cards/visa-signature\",\"https://www.tengenbank.com/personal/pay/cards/credit-cards/world-mastercard\",\"https://www.tengenbank.com/personal/pay/cards/credit-cards/money-back\",\"https://www.tengenbank.com/personal/pay/cards/credit-cards/regalia-first\",\"https://www.tengenbank.com/personal/pay/cards/credit-cards/diners-club-miles\",\"https://www.tengenbank.com/personal/pay/cards/credit-cards/regalia\",\"https://www.tengenbank.com/personal/pay/cards/credit-cards/jet-privilege-hdfc-bank-diners-club\",\"https://www.tengenbank.com/personal/pay/cards/credit-cards/jet-privilege-hdfc-bank-world\",\"https://www.tengenbank.com/personal/pay/cards/credit-cards/jetprivilege-hdfc-bank-platinum-credit-card\",\"https://www.tengenbank.com/personal/pay/cards/credit-cards/diners-privilege-old\"]\n",
    "for result in tqdm(results):\n",
    "    docs += get_data(result)"
   ]
  },
  {
   "cell_type": "markdown",
   "metadata": {},
   "source": [
    "# Generate embedding to the summarized documents"
   ]
  },
  {
   "cell_type": "code",
   "execution_count": 44,
   "metadata": {},
   "outputs": [
    {
     "name": "stdout",
     "output_type": "stream",
     "text": [
      "load INSTRUCTOR_Transformer\n",
      "max_seq_length  512\n"
     ]
    }
   ],
   "source": [
    "from langchain.embeddings.huggingface import HuggingFaceInstructEmbeddings\n",
    "from langchain.vectorstores import MongoDBAtlasVectorSearch\n",
    "repo_id = \"hkunlp/instructor-base\"\n",
    "hf = HuggingFaceInstructEmbeddings(model_name=repo_id, cache_folder=\"tmp/\")\n",
    "hf.embed_instruction = \"Represent the document for retrieval of credit cards:\"\n",
    "vectorstore = MongoDBAtlasVectorSearch(vcol, hf)"
   ]
  },
  {
   "cell_type": "code",
   "execution_count": 45,
   "metadata": {},
   "outputs": [
    {
     "data": {
      "text/plain": [
       "[ObjectId('6517ebd2aba949c4b64d3bbe'),\n",
       " ObjectId('6517ebd2aba949c4b64d3bbf'),\n",
       " ObjectId('6517ebd2aba949c4b64d3bc0'),\n",
       " ObjectId('6517ebd2aba949c4b64d3bc1'),\n",
       " ObjectId('6517ebd2aba949c4b64d3bc2'),\n",
       " ObjectId('6517ebd2aba949c4b64d3bc3'),\n",
       " ObjectId('6517ebd2aba949c4b64d3bc4'),\n",
       " ObjectId('6517ebd2aba949c4b64d3bc5'),\n",
       " ObjectId('6517ebd2aba949c4b64d3bc6'),\n",
       " ObjectId('6517ebd2aba949c4b64d3bc7'),\n",
       " ObjectId('6517ebd2aba949c4b64d3bc8'),\n",
       " ObjectId('6517ebd2aba949c4b64d3bc9'),\n",
       " ObjectId('6517ebd2aba949c4b64d3bca'),\n",
       " ObjectId('6517ebd2aba949c4b64d3bcb'),\n",
       " ObjectId('6517ebd2aba949c4b64d3bcc'),\n",
       " ObjectId('6517ebd2aba949c4b64d3bcd'),\n",
       " ObjectId('6517ebd2aba949c4b64d3bce'),\n",
       " ObjectId('6517ebd2aba949c4b64d3bcf'),\n",
       " ObjectId('6517ebd2aba949c4b64d3bd0'),\n",
       " ObjectId('6517ebd2aba949c4b64d3bd1'),\n",
       " ObjectId('6517ebd2aba949c4b64d3bd2'),\n",
       " ObjectId('6517ebd2aba949c4b64d3bd3'),\n",
       " ObjectId('6517ebd2aba949c4b64d3bd4'),\n",
       " ObjectId('6517ebd2aba949c4b64d3bd5'),\n",
       " ObjectId('6517ebd2aba949c4b64d3bd6'),\n",
       " ObjectId('6517ebd2aba949c4b64d3bd7'),\n",
       " ObjectId('6517ebd2aba949c4b64d3bd8'),\n",
       " ObjectId('6517ebd2aba949c4b64d3bd9'),\n",
       " ObjectId('6517ebd2aba949c4b64d3bda'),\n",
       " ObjectId('6517ebd2aba949c4b64d3bdb'),\n",
       " ObjectId('6517ebd2aba949c4b64d3bdc'),\n",
       " ObjectId('6517ebd2aba949c4b64d3bdd'),\n",
       " ObjectId('6517ebd2aba949c4b64d3bde'),\n",
       " ObjectId('6517ebd2aba949c4b64d3bdf'),\n",
       " ObjectId('6517ebd2aba949c4b64d3be0'),\n",
       " ObjectId('6517ebd2aba949c4b64d3be1'),\n",
       " ObjectId('6517ebd2aba949c4b64d3be2'),\n",
       " ObjectId('6517ebd2aba949c4b64d3be3'),\n",
       " ObjectId('6517ebd2aba949c4b64d3be4'),\n",
       " ObjectId('6517ebd2aba949c4b64d3be5'),\n",
       " ObjectId('6517ebd2aba949c4b64d3be6'),\n",
       " ObjectId('6517ebd2aba949c4b64d3be7'),\n",
       " ObjectId('6517ebd2aba949c4b64d3be8'),\n",
       " ObjectId('6517ebd2aba949c4b64d3be9'),\n",
       " ObjectId('6517ebd2aba949c4b64d3bea'),\n",
       " ObjectId('6517ebd2aba949c4b64d3beb'),\n",
       " ObjectId('6517ebd2aba949c4b64d3bec')]"
      ]
     },
     "execution_count": 45,
     "metadata": {},
     "output_type": "execute_result"
    }
   ],
   "source": [
    "vcol.delete_many({})\n",
    "vectorstore.add_documents(docs)"
   ]
  },
  {
   "cell_type": "code",
   "execution_count": null,
   "metadata": {},
   "outputs": [],
   "source": []
  }
 ],
 "metadata": {
  "kernelspec": {
   "display_name": "base",
   "language": "python",
   "name": "python3"
  },
  "language_info": {
   "codemirror_mode": {
    "name": "ipython",
    "version": 3
   },
   "file_extension": ".py",
   "mimetype": "text/x-python",
   "name": "python",
   "nbconvert_exporter": "python",
   "pygments_lexer": "ipython3",
   "version": "3.9.17"
  },
  "orig_nbformat": 4
 },
 "nbformat": 4,
 "nbformat_minor": 2
}
