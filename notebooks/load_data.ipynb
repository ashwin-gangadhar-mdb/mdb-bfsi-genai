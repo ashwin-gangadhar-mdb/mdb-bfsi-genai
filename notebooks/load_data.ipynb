{
 "cells": [
  {
   "cell_type": "code",
   "execution_count": 23,
   "metadata": {},
   "outputs": [
    {
     "data": {
      "text/plain": [
       "True"
      ]
     },
     "execution_count": 23,
     "metadata": {},
     "output_type": "execute_result"
    }
   ],
   "source": [
    "import pandas as pd\n",
    "from pymongo import MongoClient\n",
    "from dotenv import load_dotenv\n",
    "import os\n",
    "from tqdm import tqdm\n",
    "from langchain.chat_models import ChatOpenAI\n",
    "from langchain.chains.llm import LLMChain\n",
    "from langchain.prompts import PromptTemplate\n",
    "from langchain.chains.combine_documents.stuff import StuffDocumentsChain\n",
    "import requests\n",
    "import glob\n",
    "from bs4 import BeautifulSoup\n",
    "\n",
    "load_dotenv()"
   ]
  },
  {
   "cell_type": "code",
   "execution_count": 5,
   "metadata": {},
   "outputs": [],
   "source": [
    "MONGO_CONN=os.environ.get(\"MONGO_CONNECTION_STRING\")\n",
    "client = MongoClient(MONGO_CONN)\n",
    "col = client[\"bfsi-genai\"][\"credit_history\"]\n",
    "vcol = client[\"bfsi-genai\"][\"cc_products\"]\n",
    "\n",
    "# Define prompt\n",
    "prompt_template = \"\"\"Write a concise summary of the following in exactly 4000 words:\n",
    "\"{text}\"\n",
    "Point by Point SUMMARY of Credit card mentioned Above:\"\"\"\n",
    "prompt = PromptTemplate.from_template(prompt_template)\n",
    "llm = ChatOpenAI(temperature=0, model_name=\"gpt-3.5-turbo-16k\")\n",
    "llm_chain = LLMChain(llm=llm, prompt=prompt)\n",
    "\n",
    "\n",
    "# Define StuffDocumentsChain\n",
    "stuff_chain = StuffDocumentsChain(\n",
    "    llm_chain=llm_chain, document_variable_name=\"text\"\n",
    ")"
   ]
  },
  {
   "cell_type": "code",
   "execution_count": 12,
   "metadata": {},
   "outputs": [],
   "source": [
    "text=\"\"\"\n",
    "Our Credit Cards are like no other:\n",
    "Let's find a Card best suited for you!\n",
    "\n",
    "\n",
    "Lifetime free\n",
    "\n",
    "Low interest rates\n",
    "starting from 9% p.a.\n",
    "\n",
    "Upto 10X rewards\n",
    "10X rewards on your birthday, and crossing the spend threshold, on select variants\n",
    "\n",
    "Interest free\n",
    "ATM cash withdrawal for upto 48 days\n",
    "+ more reasons to love the card\n",
    "\n",
    "\n",
    "\"\"\"\n",
    "temp =f\"\"\"Write a concise summary of the following in exactly 4000 words:\n",
    "\"{text}\"\n",
    "Point by Point SUMMARY of Credit card mentioned Above:\"\"\"\n",
    "\n",
    "\n",
    "# print(temp)\n",
    "# print(llm.predict(temp))"
   ]
  },
  {
   "cell_type": "code",
   "execution_count": 28,
   "metadata": {},
   "outputs": [],
   "source": [
    "# df = pd.read_csv(\"../data/cs-training.csv\")\n",
    "# df[\"MonthlyIncome\"] = df[\"MonthlyIncome\"]*25\n",
    "\n",
    "# recs = df.to_dict(orient=\"records\")\n",
    "# col.insert_many(recs)\n"
   ]
  },
  {
   "cell_type": "code",
   "execution_count": 25,
   "metadata": {},
   "outputs": [
    {
     "data": {
      "text/plain": [
       "[Document(page_content='\\nFeatures\\n\\n\\n\\n\\n\\n\\nReward Type\\n\\nReward Type\\n\\n\\n\\n\\nMarriott Bonvoy Points\\n\\n\\n\\n\\n\\n\\n\\n\\n\\n\\n\\n\\n\\n\\n\\n\\n\\n\\n\\nFeatures\\n\\nFeatures\\n\\n\\n\\n\\n1 Free Night Award on Joining fee realization10 Elite Night Credits (ENCs) under the Marriott Bonvoy ProgramComplimentary Marriott Bonvoy Silver Elite StatusEarn 8 Marriott Bonvoy Points per Rs. 150 spent at hotels participating in Marriott Bonvoy*Earn 4 Marriott Bonvoy Points per Rs. 150 spent on travel, dining & entertainment*Earn 2 Marriott Bonvoy Points per Rs. 150 spent on all other applicable purchases*Complimentary Golf Access 2 per quarter across the world (Green Fee Waiver)Marriott Bonvoy Points will not be accrued for the following non-core product features categories:FuelSmart EMI / Dial an EMI transactionWallet loads / Gift or Prepaid Card load/ Voucher purchaseCash AdvancesPayment of Outstanding BalancesPayment of card fees and other chargesGovernment related transactions & Rental transactions*Click here to view detailed Terms and Conditions**Click here to view detailed Terms and Conditions on Golf Lounge access\\n\\n\\n\\n\\n\\n\\n\\n\\n\\n\\n\\n\\n\\n\\n\\n\\n\\n\\n\\nAdditional Features\\n\\nAdditional Features\\n\\n\\n\\n\\nZero Lost card liability: In the unfortunate event of losing your Marriott Bonvoy HDFC Bank Credit Card, on reporting it immediately to our 24-hour call centre, you have zero liability on any fraudulent transactions made on your Credit card.Foreign Currency Markup: 3.5% on all your foreign currency spendsRevolving Credit: Enjoy Revolving Credit on your Marriott Bonvoy HDFC Bank Credit Card at nominal interest rate. Refer to the Fees and Charges section to know more.\\n\\n\\n\\n\\n\\n\\n\\n\\n\\n\\n\\n\\n\\n\\n\\n\\n\\n\\n\\nLounge Access\\n\\nLounge Access\\n\\n\\n\\n\\n12 Complimentary access within India (both at domestic and international\\xa0terminals) using the Marriott\\xa0Bonvoy\\xa0HDFC Bank Credit Card each year12 Complimentary access outside India using the Marriott\\xa0Bonvoy\\xa0HDFC\\xa0Bank Credit Card each year\\u200bView list of Domestic and International Lounges on\\xa0DCI travel tool app\\u200b\\n\\n\\n\\n\\n\\n\\n\\n\\n\\n\\n\\n\\n\\n\\n\\n\\n\\n\\n\\nWelcome Benefit\\n\\nWelcome Benefit\\n\\n\\n\\n\\n1 Free Night Award on Joining fee realization (up to a value of 15,000 Marriott Bonvoy Points)Complimentary Marriott Bonvoy Silver Elite Status10 Elite Night Credits (ENCs) under the Marriott Bonvoy ProgramFor detailed Terms and Conditions click here\\n\\n\\n\\n\\n\\n\\n\\n\\n\\n\\n\\n\\n\\n\\n\\n\\n\\n\\n\\nMilestone Benefit\\n\\nMilestone Benefit\\n\\n\\n\\n\\n1 Free Night Award on Eligible Spend of INR 6 lakhs in an Anniversary Year1 Free Night Award on Eligible Spend of INR 9 lakhs in an Anniversary Year1 Free Night Award on Eligible Spend of INR 15 lakhs in an Anniversary YearNote:Each Free Night Award (valid for 12months) can be redeemed for a one-night stay, inclusive of room rate and applicable taxes, at hotels participating in Marriott Bonvoy with a redemption level up to 15,000 Marriott Bonvoy Points.To know more about Milestone Benefit click here\\n\\n\\n\\n\\n\\n\\n\\n\\n\\n\\n\\n\\n\\n\\n\\n\\n\\n\\n\\nInsurance/Comprehensive protection & Nominee details for Insurance\\n\\nInsurance/Comprehensive protection & Nominee details for Insurance\\n\\n\\n\\n\\n1. Delay or loss of checked-in baggage cover of up to $2502. Loss of travel documents cover of up to $2503. Flight delay cover of up to $2504. Air accidental cover of up to $12,5005. Emergency medical expenses up to $18,7506. Credit shield of up to INR100,0007. Loss liability cover of up to INR100,000Click here to update your nominee detailsClick here to know more about insurance details\\n\\n\\n\\n\\n\\n\\n\\n\\n\\n\\n\\n\\n\\n\\n\\n\\n\\n\\n\\nReward Point/CashBack Redemption & Validity\\n\\nReward Point/CashBack Redemption & Validity\\n\\n\\n\\n\\nReward Points AccrualEarn 8 Marriott Bonvoy Points per Rs. 150 spent at hotels participating in Marriott Bonvoy*Earn 4 Marriott Bonvoy Points per Rs. 150 spent on travel, dining & entertainment*Earn 2 Marriott Bonvoy Points per Rs. 150 spent on all other appliacble purchases*Reward Points RedemptionThe cardholders can redeem their Marriott Bonvoy points to book a stay at properties participating in Marriott Bonvoy, Marriott Bonvoy Moments™ experiences, travel and more.Note:*To view details on Terms and Conditions of all other spends click hereMarriott Bonvoy Points and Award Redemptions may not be exchanged or redeemed by a member for cash, prizes or credit.Points posted as the result of a transfer or earned from the use of credit cards may not be redeemable for certain Award Redemptions.To know more about Redemption and Validity of Marriott Bonvoy Points click here\\n\\n\\n\\n\\n\\n\\n\\n\\n\\n\\n\\n\\n\\n\\n\\n\\n\\n\\n\\nConcierge\\n\\nConcierge\\n\\n\\n\\n\\nEnjoy the exclusive Concierge Services on your Marriott Bonvoy HDFC Bank Credit Card. Customers can connect the concierge number from 9a.m-9p.m.Toll Free: 18003093100\\xa0Email: support@marriotthdfcbank.comHDFC Bank Customer Service24*7 Helpline-Toll Free: 1800 266 3310Landline: 022-6171 7606 (For customers travelling overseas)\\n\\n\\n\\n\\n\\n\\n\\n\\n\\n\\n\\n\\n\\n\\n\\n\\n\\n\\n\\nSmart EMI\\n\\nSmart EMI\\n\\n\\n\\n\\nMarriott Bonvoy HDFC Bank Credit Card comes with an option to convert your big spends into EMI after purchase. To know more about Smart EMI click here\\n\\n\\n\\n\\n\\n\\n\\n\\n\\n\\n\\n\\n\\n\\n\\n\\n\\n\\n\\nContactless Payment\\n\\nContactless Payment\\n\\n\\n\\n\\nThe Marriott Bonvoy HDFC Bank Credit Card is enabled for contactless payments, facilitating fast, convenient, and secure payments at retail outlets.Please note that in India, payment through contactless mode is allowed for a maximum of Rs. 5000 for a single transaction where you are not asked to input your Credit Card PIN. However, if the amount is higher than or equal to Rs. 5000, the Card holder has to enter the Credit Card PIN for security reasons.\\n\\n\\n\\n\\n\\n\\n\\n\\n\\n\\n\\n\\n\\n\\n\\n\\n\\n\\n\\n\\n\\n\\n\\n\\n\\nFAQs\\n\\n\\n\\n\\n\\n\\n\\n\\n\\n\\n\\n\\n\\n\\n\\nEligibility\\n\\n\\n\\n\\nFees and charges\\n\\n\\n\\n\\n', metadata={'source': 'https://www.hdfcbank.com/personal/pay/cards/credit-cards/marriott-bonvoy-credit-card', 'title': 'marriott-bonvoy-credit-card'})]"
      ]
     },
     "execution_count": 25,
     "metadata": {},
     "output_type": "execute_result"
    }
   ],
   "source": [
    "from langchain.docstore.document import Document\n",
    "url = \"https://www.tengenbank.com/personal/pay/cards/credit-cards/marriott-bonvoy-credit-card\"\n",
    "def parser(url,i=-1):\n",
    "    response = requests.get(url)\n",
    "    page_content = response.content\n",
    "    soup = BeautifulSoup(page_content, 'html.parser')\n",
    "    products = soup.find('div', {\"class\": \"main-content\"})\n",
    "    return [Document(metadata={\"source\": url,\"title\": url.split(\"/\")[i]},page_content=products.text)]\n",
    "\n",
    "parser(url)"
   ]
  },
  {
   "cell_type": "code",
   "execution_count": 15,
   "metadata": {},
   "outputs": [],
   "source": [
    "from langchain.text_splitter import RecursiveCharacterTextSplitter\n",
    "text_splitter = RecursiveCharacterTextSplitter(\n",
    "    chunk_size = 1000,\n",
    "    chunk_overlap  = 100,\n",
    ")\n",
    "\n",
    "def parse_n_load(url):\n",
    "    op = []\n",
    "    try:\n",
    "        op = parser(url)\n",
    "        try:\n",
    "            op += parser(url+\"/eligibility\",-2)\n",
    "        except:\n",
    "            print(f\"Failed to Parse Eligibility {url}\")\n",
    "        op += parser(url+\"/fees-and-charges\",-2)\n",
    "    except:\n",
    "        print(f\"Failed to Parse Entire {url}\")\n",
    "    return op\n",
    "\n",
    "def summarize_docs(docs):\n",
    "    return stuff_chain.run(docs)\n",
    "\n",
    "def get_data(url):\n",
    "    data = parse_n_load(url)\n",
    "    docs = text_splitter.split_documents(data)\n",
    "    summary = summarize_docs(docs)\n",
    "    doc = [Document(metadata={\"source\": url,\"title\": url.split(\"/\")[-1]},page_content=summary)]\n",
    "    return doc"
   ]
  },
  {
   "cell_type": "markdown",
   "metadata": {},
   "source": [
    "# Split the long text and Summarize"
   ]
  },
  {
   "cell_type": "code",
   "execution_count": 63,
   "metadata": {},
   "outputs": [
    {
     "name": "stdout",
     "output_type": "stream",
     "text": [
      "/Users/ashwin.gangadhar/projects/mdb-bfsi-genai/data/cards-data/marriott-bonvoy-credit-card.txt\n"
     ]
    }
   ],
   "source": [
    "results = [\"https://www.hdfcbank.com/personal/pay/cards/credit-cards/marriott-bonvoy-credit-card\",\"https://www.hdfcbank.com/personal/pay/cards/credit-cards/swiggy-hdfc-bank-credit-card\",\"https://www.hdfcbank.com/personal/pay/cards/credit-cards/regalia-gold-credit-card\",\"https://www.hdfcbank.com/personal/pay/cards/credit-cards/irctc-credit-card\",\"https://www.hdfcbank.com/personal/pay/cards/credit-cards/hdfc-bank-upi-rupay-credit-card\",\"https://www.hdfcbank.com/personal/pay/cards/credit-cards/diners-privilege\",\"https://www.hdfcbank.com/personal/pay/cards/credit-cards/moneyback-plus\",\"https://www.hdfcbank.com/personal/pay/cards/credit-cards/freedom-card-new\",\"https://www.hdfcbank.com/personal/pay/cards/credit-cards/indianoil-hdfc-bank-credit-card\",\"https://www.hdfcbank.com/personal/pay/cards/credit-cards/infinia-credit-card\",\"https://www.hdfcbank.com/personal/pay/cards/credit-cards/diners-club-black\",\"https://www.hdfcbank.com/personal/pay/cards/credit-cards/tata-neu-infinity-hdfc-bank-credit-card\",\"https://www.hdfcbank.com/personal/pay/cards/credit-cards/tata-neu-plus-hdfc-bank-credit-card\",\"https://www.hdfcbank.com/personal/pay/cards/credit-cards/shoppers-stop-hdfc-bank-credit-card\",\"https://www.hdfcbank.com/personal/pay/cards/credit-cards/shoppers-stop-black-hdfc-bank-credit-card\",\"https://www.hdfcbank.com/personal/pay/cards/credit-cards/paytm-hdfc-bank-credit-card\",\"https://www.hdfcbank.com/personal/pay/cards/credit-cards/paytm-hdfc-bank-select-credit-card\",\"https://www.hdfcbank.com/personal/pay/cards/credit-cards/paytm-hdfc-bank-mobile-credit-card\",\"https://www.hdfcbank.com/personal/pay/cards/credit-cards/paytm-hdfc-bank-digital-credit-card\",\"https://www.hdfcbank.com/personal/pay/cards/credit-cards/platinum-times-credit-card\",\"https://www.hdfcbank.com/personal/pay/cards/credit-cards/titanium-times-credit-card\",\"https://www.hdfcbank.com/personal/pay/cards/credit-cards/6e-rewards-indigo-hdfc-bank-credit-card\",\"https://www.hdfcbank.com/personal/pay/cards/credit-cards/6e-rewards-xl-indigo-hdfc-bank-credit-card\",\"https://www.hdfcbank.com/personal/pay/cards/credit-cards/all-miles-card\",\"https://www.hdfcbank.com/personal/pay/cards/credit-cards/freedom-card\",\"https://www.hdfcbank.com/personal/pay/cards/credit-cards/bharat-credit-card\",\"https://www.hdfcbank.com/personal/pay/cards/credit-cards/diners-club-premium\",\"https://www.hdfcbank.com/personal/pay/cards/credit-cards/diners-club-rewardz\",\"https://www.hdfcbank.com/personal/pay/cards/credit-cards/doctors-regalia\",\"https://www.hdfcbank.com/personal/pay/cards/credit-cards/doctors-superia\",\"https://www.hdfcbank.com/personal/pay/cards/credit-cards/jetprivilege-hdfc-bank-titanium-credit-card\",\"https://www.hdfcbank.com/personal/pay/cards/credit-cards/platinum-edge\",\"https://www.hdfcbank.com/personal/pay/cards/credit-cards/platinum-plus\",\"https://www.hdfcbank.com/personal/pay/cards/credit-cards/solitaire\",\"https://www.hdfcbank.com/personal/pay/cards/credit-cards/superia\",\"https://www.hdfcbank.com/personal/pay/cards/credit-cards/teachers-platinum\",\"https://www.hdfcbank.com/personal/pay/cards/credit-cards/titanium-edge\",\"https://www.hdfcbank.com/personal/pay/cards/credit-cards/visa-signature\",\"https://www.hdfcbank.com/personal/pay/cards/credit-cards/world-mastercard\",\"https://www.hdfcbank.com/personal/pay/cards/credit-cards/money-back\",\"https://www.hdfcbank.com/personal/pay/cards/credit-cards/regalia-first\",\"https://www.hdfcbank.com/personal/pay/cards/credit-cards/diners-club-miles\",\"https://www.hdfcbank.com/personal/pay/cards/credit-cards/regalia\",\"https://www.hdfcbank.com/personal/pay/cards/credit-cards/jet-privilege-hdfc-bank-diners-club\",\"https://www.hdfcbank.com/personal/pay/cards/credit-cards/jet-privilege-hdfc-bank-world\",\"https://www.hdfcbank.com/personal/pay/cards/credit-cards/jetprivilege-hdfc-bank-platinum-credit-card\",\"https://www.hdfcbank.com/personal/pay/cards/credit-cards/diners-privilege-old\"]\n",
    "# url = \"https://www.hdfcbank.com/personal/pay/cards/credit-cards/marriott-bonvoy-credit-card\"\n",
    "def to_file(url):\n",
    "    op = parser(url)\n",
    "    op += parser(url+\"/eligibility\",-2)\n",
    "    op += parser(url+\"/fees-and-charges\",-2)\n",
    "    # details = text_splitter.split_documents(op)\n",
    "    final = \"\\n\".join(\" \".join(detail.page_content.split()) for detail in op)\n",
    "    path = f\"/Users/ashwin.gangadhar/projects/mdb-bfsi-genai/data/cards-data/{op[0].metadata['title']}.txt\"\n",
    "    print(path)\n",
    "    with open(path,'w') as fw:\n",
    "        fw.write(final)\n",
    "to_file(results[0])"
   ]
  },
  {
   "cell_type": "code",
   "execution_count": 42,
   "metadata": {},
   "outputs": [
    {
     "name": "stdout",
     "output_type": "stream",
     "text": [
      "The Marriott Bonvoy 10gen Bank Credit Card offers various features and rewards.\n",
      " Upon joining, cardholders receive a free night award, 10 Elite Night Credits, and complimentary Marriott Bonvoy Silver Elite Status.\n",
      " They can earn 8 Marriott Bonvoy Points per Rs.\n",
      " 150 spent at participating hotels, 4 points per Rs.\n",
      " 150 spent on travel, dining, and entertainment, and 2 points per Rs.\n",
      " 150 spent on other purchases.\n",
      " Cardholders also receive complimentary golf access and lounge access within India and internationally.\n",
      " Additional features include zero lost card liability and a foreign currency markup of 3.\n",
      "5%.\n",
      " Milestone benefits include free night awards based on eligible spend.\n",
      " The card also offers insurance coverage and the ability to redeem points for stays, experiences, and travel.\n",
      " Cardholders can access concierge services, use Smart EMI for converting big spends into EMI, and make contactless payments.\n",
      " The eligibility criteria for the card include a minimum age of 21 years and a gross monthly income of over Rs.\n",
      " 1,00,000 for salaried individuals or an annual income tax return of over Rs.\n",
      " 15 lakhs for self-employed individuals.\n",
      " The joining/renewal membership fee is Rs.\n",
      " 3000 + applicable taxes.\n",
      " The welcome benefit of a complimentary night award is applicable after the joining fee is realized.\n",
      "\n"
     ]
    }
   ],
   "source": [
    "print(summarize_docs(details).replace(\".\", \".\\n\"))\n"
   ]
  },
  {
   "cell_type": "code",
   "execution_count": 2,
   "metadata": {},
   "outputs": [],
   "source": [
    "docs = []\n",
    "results = [\"https://www.tengenbank.com/personal/pay/cards/credit-cards/marriott-bonvoy-credit-card\",\"https://www.tengenbank.com/personal/pay/cards/credit-cards/swiggy-hdfc-bank-credit-card\",\"https://www.tengenbank.com/personal/pay/cards/credit-cards/regalia-gold-credit-card\",\"https://www.tengenbank.com/personal/pay/cards/credit-cards/irctc-credit-card\",\"https://www.tengenbank.com/personal/pay/cards/credit-cards/hdfc-bank-upi-rupay-credit-card\",\"https://www.tengenbank.com/personal/pay/cards/credit-cards/diners-privilege\",\"https://www.tengenbank.com/personal/pay/cards/credit-cards/moneyback-plus\",\"https://www.tengenbank.com/personal/pay/cards/credit-cards/freedom-card-new\",\"https://www.tengenbank.com/personal/pay/cards/credit-cards/indianoil-hdfc-bank-credit-card\",\"https://www.tengenbank.com/personal/pay/cards/credit-cards/infinia-credit-card\",\"https://www.tengenbank.com/personal/pay/cards/credit-cards/diners-club-black\",\"https://www.tengenbank.com/personal/pay/cards/credit-cards/tata-neu-infinity-hdfc-bank-credit-card\",\"https://www.tengenbank.com/personal/pay/cards/credit-cards/tata-neu-plus-hdfc-bank-credit-card\",\"https://www.tengenbank.com/personal/pay/cards/credit-cards/shoppers-stop-hdfc-bank-credit-card\",\"https://www.tengenbank.com/personal/pay/cards/credit-cards/shoppers-stop-black-hdfc-bank-credit-card\",\"https://www.tengenbank.com/personal/pay/cards/credit-cards/paytm-hdfc-bank-credit-card\",\"https://www.tengenbank.com/personal/pay/cards/credit-cards/paytm-hdfc-bank-select-credit-card\",\"https://www.tengenbank.com/personal/pay/cards/credit-cards/paytm-hdfc-bank-mobile-credit-card\",\"https://www.tengenbank.com/personal/pay/cards/credit-cards/paytm-hdfc-bank-digital-credit-card\",\"https://www.tengenbank.com/personal/pay/cards/credit-cards/platinum-times-credit-card\",\"https://www.tengenbank.com/personal/pay/cards/credit-cards/titanium-times-credit-card\",\"https://www.tengenbank.com/personal/pay/cards/credit-cards/6e-rewards-indigo-hdfc-bank-credit-card\",\"https://www.tengenbank.com/personal/pay/cards/credit-cards/6e-rewards-xl-indigo-hdfc-bank-credit-card\",\"https://www.tengenbank.com/personal/pay/cards/credit-cards/all-miles-card\",\"https://www.tengenbank.com/personal/pay/cards/credit-cards/freedom-card\",\"https://www.tengenbank.com/personal/pay/cards/credit-cards/bharat-credit-card\",\"https://www.tengenbank.com/personal/pay/cards/credit-cards/diners-club-premium\",\"https://www.tengenbank.com/personal/pay/cards/credit-cards/diners-club-rewardz\",\"https://www.tengenbank.com/personal/pay/cards/credit-cards/doctors-regalia\",\"https://www.tengenbank.com/personal/pay/cards/credit-cards/doctors-superia\",\"https://www.tengenbank.com/personal/pay/cards/credit-cards/jetprivilege-hdfc-bank-titanium-credit-card\",\"https://www.tengenbank.com/personal/pay/cards/credit-cards/platinum-edge\",\"https://www.tengenbank.com/personal/pay/cards/credit-cards/platinum-plus\",\"https://www.tengenbank.com/personal/pay/cards/credit-cards/solitaire\",\"https://www.tengenbank.com/personal/pay/cards/credit-cards/superia\",\"https://www.tengenbank.com/personal/pay/cards/credit-cards/teachers-platinum\",\"https://www.tengenbank.com/personal/pay/cards/credit-cards/titanium-edge\",\"https://www.tengenbank.com/personal/pay/cards/credit-cards/visa-signature\",\"https://www.tengenbank.com/personal/pay/cards/credit-cards/world-mastercard\",\"https://www.tengenbank.com/personal/pay/cards/credit-cards/money-back\",\"https://www.tengenbank.com/personal/pay/cards/credit-cards/regalia-first\",\"https://www.tengenbank.com/personal/pay/cards/credit-cards/diners-club-miles\",\"https://www.tengenbank.com/personal/pay/cards/credit-cards/regalia\",\"https://www.tengenbank.com/personal/pay/cards/credit-cards/jet-privilege-hdfc-bank-diners-club\",\"https://www.tengenbank.com/personal/pay/cards/credit-cards/jet-privilege-hdfc-bank-world\",\"https://www.tengenbank.com/personal/pay/cards/credit-cards/jetprivilege-hdfc-bank-platinum-credit-card\",\"https://www.tengenbank.com/personal/pay/cards/credit-cards/diners-privilege-old\"]\n",
    "for result in tqdm(results):\n",
    "    docs += get_data(result)"
   ]
  },
  {
   "cell_type": "markdown",
   "metadata": {},
   "source": [
    "# Generate embedding to the summarized documents"
   ]
  },
  {
   "cell_type": "code",
   "execution_count": 16,
   "metadata": {},
   "outputs": [
    {
     "name": "stderr",
     "output_type": "stream",
     "text": [
      "/Users/ashwin.gangadhar/anaconda3/lib/python3.9/site-packages/InstructorEmbedding/instructor.py:7: TqdmExperimentalWarning: Using `tqdm.autonotebook.tqdm` in notebook mode. Use `tqdm.tqdm` instead to force console mode (e.g. in jupyter console)\n",
      "  from tqdm.autonotebook import trange\n"
     ]
    },
    {
     "data": {
      "application/vnd.jupyter.widget-view+json": {
       "model_id": "f96878cf2cbc44c9a62dd6bc62a92947",
       "version_major": 2,
       "version_minor": 0
      },
      "text/plain": [
       "Downloading (…)62736/.gitattributes:   0%|          | 0.00/1.48k [00:00<?, ?B/s]"
      ]
     },
     "metadata": {},
     "output_type": "display_data"
    },
    {
     "data": {
      "application/vnd.jupyter.widget-view+json": {
       "model_id": "b49c68bd9dcb4c0bba9196285c42fce7",
       "version_major": 2,
       "version_minor": 0
      },
      "text/plain": [
       "Downloading (…)_Pooling/config.json:   0%|          | 0.00/270 [00:00<?, ?B/s]"
      ]
     },
     "metadata": {},
     "output_type": "display_data"
    },
    {
     "data": {
      "application/vnd.jupyter.widget-view+json": {
       "model_id": "28759a7d4858413bb8d0ed2a0415c0ca",
       "version_major": 2,
       "version_minor": 0
      },
      "text/plain": [
       "Downloading (…)/2_Dense/config.json:   0%|          | 0.00/115 [00:00<?, ?B/s]"
      ]
     },
     "metadata": {},
     "output_type": "display_data"
    },
    {
     "data": {
      "application/vnd.jupyter.widget-view+json": {
       "model_id": "2e2bbb556e9f4caebe5d25bec33820e1",
       "version_major": 2,
       "version_minor": 0
      },
      "text/plain": [
       "Downloading pytorch_model.bin:   0%|          | 0.00/2.36M [00:00<?, ?B/s]"
      ]
     },
     "metadata": {},
     "output_type": "display_data"
    },
    {
     "data": {
      "application/vnd.jupyter.widget-view+json": {
       "model_id": "9d815568fb06429b86363705cd98b614",
       "version_major": 2,
       "version_minor": 0
      },
      "text/plain": [
       "Downloading (…)15e6562736/README.md:   0%|          | 0.00/66.2k [00:00<?, ?B/s]"
      ]
     },
     "metadata": {},
     "output_type": "display_data"
    },
    {
     "data": {
      "application/vnd.jupyter.widget-view+json": {
       "model_id": "6ee791fa3264431483dd25738bec4d66",
       "version_major": 2,
       "version_minor": 0
      },
      "text/plain": [
       "Downloading (…)e6562736/config.json:   0%|          | 0.00/1.55k [00:00<?, ?B/s]"
      ]
     },
     "metadata": {},
     "output_type": "display_data"
    },
    {
     "data": {
      "application/vnd.jupyter.widget-view+json": {
       "model_id": "e0e9a80e15df496293264c8af8ad393b",
       "version_major": 2,
       "version_minor": 0
      },
      "text/plain": [
       "Downloading (…)ce_transformers.json:   0%|          | 0.00/122 [00:00<?, ?B/s]"
      ]
     },
     "metadata": {},
     "output_type": "display_data"
    },
    {
     "data": {
      "application/vnd.jupyter.widget-view+json": {
       "model_id": "fb2fdc301c0a46e39a3756e608e1caec",
       "version_major": 2,
       "version_minor": 0
      },
      "text/plain": [
       "Downloading pytorch_model.bin:   0%|          | 0.00/439M [00:00<?, ?B/s]"
      ]
     },
     "metadata": {},
     "output_type": "display_data"
    },
    {
     "data": {
      "application/vnd.jupyter.widget-view+json": {
       "model_id": "0aec625acae1402189c3ec0ea08327e1",
       "version_major": 2,
       "version_minor": 0
      },
      "text/plain": [
       "Downloading (…)nce_bert_config.json:   0%|          | 0.00/53.0 [00:00<?, ?B/s]"
      ]
     },
     "metadata": {},
     "output_type": "display_data"
    },
    {
     "data": {
      "application/vnd.jupyter.widget-view+json": {
       "model_id": "f867120bb849422c949c2d288b1308bf",
       "version_major": 2,
       "version_minor": 0
      },
      "text/plain": [
       "Downloading (…)cial_tokens_map.json:   0%|          | 0.00/2.20k [00:00<?, ?B/s]"
      ]
     },
     "metadata": {},
     "output_type": "display_data"
    },
    {
     "data": {
      "application/vnd.jupyter.widget-view+json": {
       "model_id": "6c52343f530147dd9820613c3908c9ff",
       "version_major": 2,
       "version_minor": 0
      },
      "text/plain": [
       "Downloading spiece.model:   0%|          | 0.00/792k [00:00<?, ?B/s]"
      ]
     },
     "metadata": {},
     "output_type": "display_data"
    },
    {
     "data": {
      "application/vnd.jupyter.widget-view+json": {
       "model_id": "a30fd5f249e84c53be71d062a3b5ec8f",
       "version_major": 2,
       "version_minor": 0
      },
      "text/plain": [
       "Downloading (…)62736/tokenizer.json:   0%|          | 0.00/2.42M [00:00<?, ?B/s]"
      ]
     },
     "metadata": {},
     "output_type": "display_data"
    },
    {
     "data": {
      "application/vnd.jupyter.widget-view+json": {
       "model_id": "ffa6d6ed45234ced8874347833787100",
       "version_major": 2,
       "version_minor": 0
      },
      "text/plain": [
       "Downloading (…)okenizer_config.json:   0%|          | 0.00/2.43k [00:00<?, ?B/s]"
      ]
     },
     "metadata": {},
     "output_type": "display_data"
    },
    {
     "data": {
      "application/vnd.jupyter.widget-view+json": {
       "model_id": "7fa1c08b5e6f45118f7e8ca34c1aa666",
       "version_major": 2,
       "version_minor": 0
      },
      "text/plain": [
       "Downloading (…)6562736/modules.json:   0%|          | 0.00/461 [00:00<?, ?B/s]"
      ]
     },
     "metadata": {},
     "output_type": "display_data"
    },
    {
     "name": "stdout",
     "output_type": "stream",
     "text": [
      "load INSTRUCTOR_Transformer\n",
      "max_seq_length  512\n"
     ]
    }
   ],
   "source": [
    "from langchain.embeddings.huggingface import HuggingFaceInstructEmbeddings\n",
    "from langchain.vectorstores import MongoDBAtlasVectorSearch\n",
    "repo_id = \"hkunlp/instructor-base\"\n",
    "hf = HuggingFaceInstructEmbeddings(model_name=repo_id, cache_folder=\"tmp/\")\n",
    "hf.embed_instruction = \"Represent the document for retrieval of credit cards:\"\n",
    "vectorstore = MongoDBAtlasVectorSearch(vcol, hf)"
   ]
  },
  {
   "cell_type": "code",
   "execution_count": 45,
   "metadata": {},
   "outputs": [
    {
     "data": {
      "text/plain": [
       "[ObjectId('6517ebd2aba949c4b64d3bbe'),\n",
       " ObjectId('6517ebd2aba949c4b64d3bbf'),\n",
       " ObjectId('6517ebd2aba949c4b64d3bc0'),\n",
       " ObjectId('6517ebd2aba949c4b64d3bc1'),\n",
       " ObjectId('6517ebd2aba949c4b64d3bc2'),\n",
       " ObjectId('6517ebd2aba949c4b64d3bc3'),\n",
       " ObjectId('6517ebd2aba949c4b64d3bc4'),\n",
       " ObjectId('6517ebd2aba949c4b64d3bc5'),\n",
       " ObjectId('6517ebd2aba949c4b64d3bc6'),\n",
       " ObjectId('6517ebd2aba949c4b64d3bc7'),\n",
       " ObjectId('6517ebd2aba949c4b64d3bc8'),\n",
       " ObjectId('6517ebd2aba949c4b64d3bc9'),\n",
       " ObjectId('6517ebd2aba949c4b64d3bca'),\n",
       " ObjectId('6517ebd2aba949c4b64d3bcb'),\n",
       " ObjectId('6517ebd2aba949c4b64d3bcc'),\n",
       " ObjectId('6517ebd2aba949c4b64d3bcd'),\n",
       " ObjectId('6517ebd2aba949c4b64d3bce'),\n",
       " ObjectId('6517ebd2aba949c4b64d3bcf'),\n",
       " ObjectId('6517ebd2aba949c4b64d3bd0'),\n",
       " ObjectId('6517ebd2aba949c4b64d3bd1'),\n",
       " ObjectId('6517ebd2aba949c4b64d3bd2'),\n",
       " ObjectId('6517ebd2aba949c4b64d3bd3'),\n",
       " ObjectId('6517ebd2aba949c4b64d3bd4'),\n",
       " ObjectId('6517ebd2aba949c4b64d3bd5'),\n",
       " ObjectId('6517ebd2aba949c4b64d3bd6'),\n",
       " ObjectId('6517ebd2aba949c4b64d3bd7'),\n",
       " ObjectId('6517ebd2aba949c4b64d3bd8'),\n",
       " ObjectId('6517ebd2aba949c4b64d3bd9'),\n",
       " ObjectId('6517ebd2aba949c4b64d3bda'),\n",
       " ObjectId('6517ebd2aba949c4b64d3bdb'),\n",
       " ObjectId('6517ebd2aba949c4b64d3bdc'),\n",
       " ObjectId('6517ebd2aba949c4b64d3bdd'),\n",
       " ObjectId('6517ebd2aba949c4b64d3bde'),\n",
       " ObjectId('6517ebd2aba949c4b64d3bdf'),\n",
       " ObjectId('6517ebd2aba949c4b64d3be0'),\n",
       " ObjectId('6517ebd2aba949c4b64d3be1'),\n",
       " ObjectId('6517ebd2aba949c4b64d3be2'),\n",
       " ObjectId('6517ebd2aba949c4b64d3be3'),\n",
       " ObjectId('6517ebd2aba949c4b64d3be4'),\n",
       " ObjectId('6517ebd2aba949c4b64d3be5'),\n",
       " ObjectId('6517ebd2aba949c4b64d3be6'),\n",
       " ObjectId('6517ebd2aba949c4b64d3be7'),\n",
       " ObjectId('6517ebd2aba949c4b64d3be8'),\n",
       " ObjectId('6517ebd2aba949c4b64d3be9'),\n",
       " ObjectId('6517ebd2aba949c4b64d3bea'),\n",
       " ObjectId('6517ebd2aba949c4b64d3beb'),\n",
       " ObjectId('6517ebd2aba949c4b64d3bec')]"
      ]
     },
     "execution_count": 45,
     "metadata": {},
     "output_type": "execute_result"
    }
   ],
   "source": [
    "# vcol.delete_many({})\n",
    "# vectorstore.add_documents(docs)"
   ]
  },
  {
   "cell_type": "code",
   "execution_count": 22,
   "metadata": {},
   "outputs": [
    {
     "name": "stdout",
     "output_type": "stream",
     "text": [
      "diners-club-miles\n",
      "visa-signature\n",
      "world-mastercard\n",
      "diners-club-premium\n"
     ]
    }
   ],
   "source": [
    "docs = vectorstore.as_retriever().get_relevant_documents(\"Credit card that provide great value for travelling and vacation\")\n",
    "for doc in docs:\n",
    "    print(doc.metadata[\"title\"])"
   ]
  },
  {
   "cell_type": "code",
   "execution_count": 29,
   "metadata": {},
   "outputs": [
    {
     "name": "stdout",
     "output_type": "stream",
     "text": [
      "[[ 6.76569194e-02  6.34958595e-02  4.87131253e-02  7.93049559e-02\n",
      "   3.74480151e-02  2.65276269e-03  3.93749028e-02 -7.09840655e-03\n",
      "   5.93614392e-02  3.15369815e-02  6.00980483e-02 -5.29052839e-02\n",
      "   4.06067632e-02 -2.59308442e-02  2.98427492e-02  1.12691964e-03\n",
      "   7.35149011e-02 -5.03818765e-02 -1.22386552e-01  2.37028468e-02\n",
      "   2.97264513e-02  4.24768217e-02  2.56337356e-02  1.99518423e-03\n",
      "  -5.69191538e-02 -2.71598548e-02 -3.29036042e-02  6.60248846e-02\n",
      "   1.19007066e-01 -4.58791181e-02 -7.26214796e-02 -3.25840600e-02\n",
      "   5.23413830e-02  4.50552776e-02  8.25312082e-03  3.67024317e-02\n",
      "  -1.39414473e-02  6.53919280e-02 -2.64272578e-02  2.06382014e-04\n",
      "  -1.36643536e-02 -3.62810232e-02 -1.95043292e-02 -2.89738793e-02\n",
      "   3.94270271e-02 -8.84091035e-02  2.62432033e-03  1.36714717e-02\n",
      "   4.83063571e-02 -3.11565548e-02 -1.17329165e-01 -5.11689968e-02\n",
      "  -8.85288864e-02 -2.18962468e-02  1.42985815e-02  4.44168746e-02\n",
      "  -1.34815443e-02  7.43392855e-02  2.66382117e-02 -1.98762231e-02\n",
      "   1.79190487e-02 -1.06052980e-02 -9.04263407e-02  2.13269554e-02\n",
      "   1.41204745e-01 -6.47169352e-03 -1.40386634e-03 -1.53609617e-02\n",
      "  -8.73571560e-02  7.22174570e-02  2.01403033e-02  4.25586961e-02\n",
      "  -3.49014141e-02  3.19627812e-04 -8.02971572e-02 -3.27472724e-02\n",
      "   2.85268575e-02 -5.13658822e-02  1.09389238e-01  8.19327608e-02\n",
      "  -9.84040201e-02 -9.34095457e-02 -1.51292402e-02  4.51248363e-02\n",
      "   4.94171679e-02 -2.51867883e-02  1.57078020e-02 -1.29290715e-01\n",
      "   5.31889079e-03  4.02342342e-03 -2.34572478e-02 -6.72982931e-02\n",
      "   2.92280652e-02 -2.60845888e-02  1.30625330e-02 -3.11662350e-02\n",
      "  -4.82714102e-02 -5.58860339e-02 -3.87505591e-02  1.20010868e-01\n",
      "  -1.03923995e-02  4.89704646e-02  5.53537011e-02  4.49359305e-02\n",
      "  -4.00970597e-03 -1.02959715e-01 -2.92968526e-02 -5.83402552e-02\n",
      "   2.70472616e-02 -2.20168792e-02 -7.22240582e-02 -4.13869657e-02\n",
      "  -1.93298589e-02  2.73330486e-03  2.76979961e-04 -9.67588350e-02\n",
      "  -1.00574799e-01 -1.41923064e-02 -8.07891861e-02  4.53924313e-02\n",
      "   2.45041400e-02  5.97614050e-02 -7.38185719e-02  1.19843474e-02\n",
      "  -6.63404018e-02 -7.69044235e-02  3.85157876e-02 -5.59362403e-33\n",
      "   2.80012917e-02 -5.60785085e-02 -4.86602150e-02  2.15570480e-02\n",
      "   6.01980947e-02 -4.81403172e-02 -3.50247100e-02  1.93313751e-02\n",
      "  -1.75150856e-02 -3.89209613e-02 -3.81066743e-03 -1.70288254e-02\n",
      "   2.82099321e-02  1.28290514e-02  4.71601114e-02  6.21029437e-02\n",
      "  -6.43590018e-02  1.29285574e-01 -1.31231137e-02  5.23069799e-02\n",
      "  -3.73680517e-02  2.89093945e-02 -1.68980695e-02 -2.37329658e-02\n",
      "  -3.33491787e-02 -5.16762957e-02  1.55356610e-02  2.08803583e-02\n",
      "  -1.25372102e-02  4.59579155e-02  3.72721925e-02  2.80566514e-02\n",
      "  -5.90005144e-02 -1.16988607e-02  4.92182225e-02  4.70328517e-02\n",
      "   7.35487342e-02 -3.70529406e-02  3.98462312e-03  1.06412498e-02\n",
      "  -1.61610573e-04 -5.27165867e-02  2.75927931e-02 -3.92921865e-02\n",
      "   8.44717398e-02  4.86860462e-02 -4.85860789e-03  1.79948453e-02\n",
      "  -4.28570136e-02  1.23375719e-02  6.39962172e-03  4.04822640e-02\n",
      "   1.48887634e-02 -1.53942471e-02  7.62947276e-02  2.37043202e-02\n",
      "   4.45237868e-02  5.08195460e-02 -2.31251027e-03 -1.88737512e-02\n",
      "  -1.23335496e-02  4.66001853e-02 -5.63437343e-02  6.29927367e-02\n",
      "  -3.15534882e-02  3.24911661e-02  2.34673042e-02 -6.55438676e-02\n",
      "   2.01709010e-02  2.57082339e-02 -1.23868547e-02 -8.36501736e-03\n",
      "  -6.64377585e-02  9.43073630e-02 -3.57093140e-02 -3.42482701e-02\n",
      "  -6.66350592e-03 -8.01530667e-03 -3.09711955e-02  4.33011390e-02\n",
      "  -8.21399968e-03 -1.50795057e-01  3.07691991e-02  4.00718972e-02\n",
      "  -3.79293412e-02  1.93210144e-03  4.00530212e-02 -8.77074972e-02\n",
      "  -3.68491225e-02  8.57960526e-03 -3.19251493e-02 -1.25257783e-02\n",
      "   7.35539794e-02  1.34735426e-03  2.05917899e-02  2.71097870e-33\n",
      "  -5.18577062e-02  5.78360297e-02 -9.18985605e-02  3.94422039e-02\n",
      "   1.05576441e-01 -1.96912661e-02  6.18403181e-02 -7.63465017e-02\n",
      "   2.40880083e-02  9.40049067e-02 -1.16535448e-01  3.71198282e-02\n",
      "   5.22425734e-02 -3.95851489e-03  5.72214760e-02  5.32858586e-03\n",
      "   1.24016784e-01  1.39021538e-02 -1.10249678e-02  3.56052630e-02\n",
      "  -3.30754630e-02  8.16574171e-02 -1.52004072e-02  6.05585277e-02\n",
      "  -6.01397306e-02  3.26102562e-02 -3.48297060e-02 -1.69882644e-02\n",
      "  -9.74907875e-02 -2.71483921e-02  1.74713670e-03 -7.68982098e-02\n",
      "  -4.31858450e-02 -1.89985111e-02 -2.91661564e-02  5.77487908e-02\n",
      "   2.41821781e-02 -1.16902245e-02 -6.21435419e-02  2.84351036e-02\n",
      "  -2.37568413e-04 -2.51783952e-02  4.39633243e-03  8.12840685e-02\n",
      "   3.64184603e-02 -6.04005605e-02 -3.65517959e-02 -7.93747976e-02\n",
      "  -5.08530252e-03  6.69698939e-02 -1.17784359e-01  3.23744938e-02\n",
      "  -4.71252762e-02 -1.34460442e-02 -9.48445052e-02  8.24946072e-03\n",
      "  -1.06748166e-02 -6.81882277e-02  1.11818081e-03  2.48020031e-02\n",
      "  -6.35889173e-02  2.84492858e-02 -2.61302907e-02  8.58111084e-02\n",
      "   1.14682272e-01 -5.35345562e-02 -5.63588664e-02  4.26008925e-02\n",
      "   1.09453984e-02  2.09578052e-02  1.00131214e-01  3.26051675e-02\n",
      "  -1.84208721e-01 -3.93208265e-02 -6.91455007e-02 -6.38104901e-02\n",
      "  -6.56386390e-02 -6.41254848e-03 -4.79612388e-02 -7.68132433e-02\n",
      "   2.95384210e-02 -2.29948554e-02  4.17037122e-02 -2.50048302e-02\n",
      "  -4.54509445e-03 -4.17136326e-02 -1.32289194e-02 -6.38357550e-02\n",
      "  -2.46480061e-03 -1.37338033e-02  1.68976989e-02 -6.30398095e-02\n",
      "   8.98879990e-02  4.18171212e-02 -1.85687412e-02 -1.80442203e-08\n",
      "  -1.67998821e-02 -3.21577676e-02  6.30384535e-02 -4.13092524e-02\n",
      "   4.44819517e-02  2.02470738e-03  6.29593134e-02 -5.17369946e-03\n",
      "  -1.00443540e-02 -3.05640306e-02  3.52671966e-02  5.58581315e-02\n",
      "  -4.67125438e-02  3.45103145e-02  3.29579301e-02  4.30114865e-02\n",
      "   2.94361394e-02 -3.03164404e-02 -1.71107650e-02  7.37485364e-02\n",
      "  -5.47909588e-02  2.77515706e-02  6.20154245e-03  1.58800874e-02\n",
      "   3.42978463e-02 -5.15747443e-03  2.35080030e-02  7.53134713e-02\n",
      "   1.92843433e-02  3.36197652e-02  5.09103499e-02  1.52497053e-01\n",
      "   1.64207350e-02  2.70527825e-02  3.75162400e-02  2.18554903e-02\n",
      "   5.66333830e-02 -3.95747460e-02  7.12313354e-02 -5.41376434e-02\n",
      "   1.03774527e-03  2.11853720e-02 -3.56308296e-02  1.09016925e-01\n",
      "   2.76530720e-03  3.13996859e-02  1.38422323e-03 -3.45738269e-02\n",
      "  -4.59277742e-02  2.88083684e-02  7.16901245e-03  4.84684482e-02\n",
      "   2.61018407e-02 -9.44077875e-03  2.82169431e-02  3.48723754e-02\n",
      "   3.69098708e-02 -8.58949590e-03 -3.53205986e-02 -2.47856546e-02\n",
      "  -1.91921368e-02  3.80708091e-02  5.99653609e-02 -4.22287509e-02]\n",
      " [ 8.64385590e-02  1.02762699e-01  5.39457100e-03  2.04441743e-03\n",
      "  -9.96336993e-03  2.53855400e-02  4.92876023e-02 -3.06265857e-02\n",
      "   6.87254816e-02  1.01365801e-02  7.75397271e-02 -9.00807306e-02\n",
      "   6.10618386e-03 -5.69898263e-02  1.41715165e-02  2.80491672e-02\n",
      "  -8.68464261e-02  7.64399767e-02 -1.03491232e-01 -6.77438080e-02\n",
      "   6.99947029e-02  8.44251141e-02 -7.24916812e-03  1.04770372e-02\n",
      "   1.34020410e-02  6.77576512e-02 -9.42085609e-02 -3.71689983e-02\n",
      "   5.22617884e-02 -3.10853608e-02 -9.63406265e-02  1.57716908e-02\n",
      "   2.57866830e-02  7.85244852e-02  7.89948925e-02  1.91516578e-02\n",
      "   1.64356660e-02  3.10080824e-03  3.81311364e-02  2.37090439e-02\n",
      "   1.05389850e-02 -4.40645143e-02  4.41738367e-02 -2.58727763e-02\n",
      "   6.15378544e-02 -4.05427292e-02 -8.64139870e-02  3.19722481e-02\n",
      "  -8.90723604e-04 -2.44436972e-02 -9.19721648e-02  2.33939178e-02\n",
      "  -8.30293074e-02  4.41510417e-02 -2.49692835e-02  6.23020269e-02\n",
      "  -1.30349374e-03  7.51395226e-02  2.46384759e-02 -6.47244975e-02\n",
      "  -1.17727757e-01  3.83391865e-02 -9.11767632e-02  6.35445863e-02\n",
      "   7.62739405e-02 -8.80240798e-02  9.54555906e-03 -4.69717979e-02\n",
      "  -8.41740146e-02  3.88824567e-02 -1.14393570e-01  6.28862716e-03\n",
      "  -3.49361598e-02  2.39751581e-02 -3.31317559e-02 -1.57243665e-02\n",
      "  -3.78955603e-02 -8.81245267e-03  7.06119165e-02  3.28066126e-02\n",
      "   2.03675660e-03 -1.12278968e-01  6.79722847e-03  1.22765275e-02\n",
      "   3.35302986e-02 -1.36200571e-02 -2.25490071e-02 -2.25228630e-02\n",
      "  -2.03194302e-02  5.04297651e-02 -7.48652667e-02 -8.22821558e-02\n",
      "   7.65962154e-02  4.93392386e-02 -3.75552997e-02  1.44634992e-02\n",
      "  -5.72457574e-02 -1.79954711e-02  1.09697938e-01  1.19462758e-01\n",
      "   8.09202669e-04  6.17058389e-02  3.26322094e-02 -1.30780146e-01\n",
      "  -1.48636565e-01 -6.16233163e-02  4.33885455e-02  2.67129075e-02\n",
      "   1.39785372e-02 -3.94002125e-02 -2.52711028e-02  3.87744512e-03\n",
      "   3.58664393e-02 -6.15421161e-02  3.76661271e-02  2.67564896e-02\n",
      "  -3.82658802e-02 -3.54792923e-02 -2.39227321e-02  8.67977142e-02\n",
      "  -1.84062663e-02  7.71039650e-02  1.39863847e-03  7.00383037e-02\n",
      "  -4.77877483e-02 -7.89820552e-02  5.10814451e-02 -2.99868333e-33\n",
      "  -3.91646214e-02 -2.56209355e-03  1.65210292e-02  9.48932674e-03\n",
      "  -5.66219315e-02  6.57783225e-02 -4.77002300e-02  1.11661796e-02\n",
      "  -5.73558100e-02 -9.16253496e-03 -2.17521470e-02 -5.59532270e-02\n",
      "  -1.11422809e-02  9.32793543e-02  1.66764986e-02 -1.36723947e-02\n",
      "   4.34388518e-02  1.87236595e-03  7.29942974e-03  5.16332537e-02\n",
      "   4.80608419e-02  1.35341495e-01 -1.71739627e-02 -1.29698031e-02\n",
      "  -7.50109777e-02  2.61107422e-02  2.69801877e-02  7.83011666e-04\n",
      "  -4.87269498e-02  1.17842723e-02 -4.59580235e-02 -4.83214147e-02\n",
      "  -1.95671208e-02  1.93889327e-02  1.98807549e-02  1.67432018e-02\n",
      "   9.87800732e-02 -2.74087563e-02  2.34809034e-02  3.70232528e-03\n",
      "  -6.14514016e-02 -1.21229724e-03 -9.50472336e-03  9.25157405e-03\n",
      "   2.38443799e-02  8.61232057e-02  2.26790495e-02  5.45143441e-04\n",
      "   3.47130150e-02  6.25459896e-03 -6.92771515e-03  3.92400846e-02\n",
      "   1.15675041e-02  3.26279402e-02  6.22155555e-02  2.76114121e-02\n",
      "   1.86884310e-02  3.55806239e-02  4.11795862e-02  1.54782161e-02\n",
      "   4.22691442e-02  3.82248238e-02  1.00313453e-02 -2.83245910e-02\n",
      "   4.47051972e-02 -4.10459079e-02 -4.50549321e-03 -5.44735007e-02\n",
      "   2.62321252e-02  1.79861952e-02 -1.23118788e-01 -4.66952175e-02\n",
      "  -1.35913929e-02  6.46710545e-02  3.57346120e-03 -1.22233843e-02\n",
      "  -1.79382078e-02 -2.55502220e-02  2.37224363e-02  4.08665184e-03\n",
      "  -6.51475266e-02  4.43652011e-02  4.68595959e-02 -3.25174704e-02\n",
      "   4.02276590e-03 -3.97607824e-03  1.11939395e-02 -9.95597318e-02\n",
      "   3.33167985e-02  8.01059902e-02  9.42692161e-02 -6.38294667e-02\n",
      "   3.23151685e-02 -5.13553135e-02 -7.49874767e-03  5.30051112e-34\n",
      "  -4.13194485e-02  9.49646533e-02 -1.06401466e-01  4.96590436e-02\n",
      "  -3.41913700e-02 -3.16746011e-02 -1.71556044e-02  1.70095894e-03\n",
      "   5.79757988e-02 -1.21780520e-03 -1.68536380e-02 -5.16912825e-02\n",
      "   5.52999005e-02 -3.42646874e-02  3.08178887e-02 -3.10481284e-02\n",
      "   9.27532688e-02  3.72662880e-02 -2.37397626e-02  4.45893332e-02\n",
      "   1.46153383e-02  1.16239361e-01 -5.00112362e-02  3.88716497e-02\n",
      "   4.24751453e-03  2.56975964e-02  3.27243693e-02  4.29907218e-02\n",
      "  -1.36144385e-02  2.56122332e-02  1.06262071e-02 -8.46865028e-02\n",
      "  -9.52981636e-02  1.08399875e-01 -7.51599818e-02 -1.37774190e-02\n",
      "   6.37338310e-02 -4.49668337e-03 -3.25321443e-02  6.23613484e-02\n",
      "   3.48052643e-02 -3.54922339e-02 -2.00222731e-02  3.66608128e-02\n",
      "  -2.48836838e-02  1.01818815e-02 -7.01232851e-02 -4.31950949e-02\n",
      "   2.95332484e-02 -2.94935249e-04 -3.45386341e-02  1.46675697e-02\n",
      "  -9.83969867e-02 -4.70487997e-02 -8.85490794e-03 -8.89914557e-02\n",
      "   3.50995921e-02 -1.29602060e-01 -4.98865247e-02 -6.12046942e-02\n",
      "  -5.97797073e-02  9.46319662e-03  4.91217375e-02 -7.75026679e-02\n",
      "   8.09727311e-02 -4.79257219e-02  2.34374660e-03  7.57031217e-02\n",
      "  -2.40175929e-02 -1.52546018e-02  4.86738607e-02 -3.85968648e-02\n",
      "  -7.04832077e-02 -1.20347878e-02 -3.88790965e-02 -7.76016861e-02\n",
      "  -1.07243154e-02  1.04188202e-02 -2.13754121e-02 -9.17386487e-02\n",
      "  -1.11344466e-02 -2.96066161e-02  2.46458482e-02  4.65712696e-03\n",
      "  -1.63449589e-02 -3.95219885e-02  7.73373619e-02 -2.84732878e-02\n",
      "  -3.69939907e-03  8.27665627e-02 -1.10409046e-02  3.13984081e-02\n",
      "   5.35093881e-02  5.75146116e-02 -3.17622200e-02 -1.52911266e-08\n",
      "  -7.99661130e-02 -4.76797484e-02 -8.59788507e-02  5.69616556e-02\n",
      "  -4.08865921e-02  2.23832522e-02 -4.64438973e-03 -3.80131342e-02\n",
      "  -3.10671460e-02 -1.07278656e-02  1.97698809e-02  7.76998606e-03\n",
      "  -6.09472953e-03 -3.86376120e-02  2.80271675e-02  6.78138211e-02\n",
      "  -2.35350356e-02  3.21747810e-02  8.02537613e-03 -2.39107069e-02\n",
      "  -1.21999509e-03  3.14599164e-02 -5.24925180e-02 -8.06812569e-03\n",
      "   3.14772362e-03  5.11497036e-02 -4.44104783e-02  6.36013001e-02\n",
      "   3.85083668e-02  3.30433100e-02 -4.18719929e-03  4.95592654e-02\n",
      "  -5.69604412e-02 -6.49706135e-03 -2.49793455e-02 -1.60867218e-02\n",
      "   6.62288889e-02 -2.06310004e-02  1.08045794e-01  1.68546941e-02\n",
      "   1.43812820e-02 -1.32126231e-02 -1.29387364e-01  6.95216283e-02\n",
      "  -5.55773154e-02 -6.75414130e-02 -5.45824179e-03 -6.13594614e-03\n",
      "   3.90840992e-02 -6.28779382e-02  3.74063365e-02 -1.16571290e-02\n",
      "   1.29150329e-02 -5.52495718e-02  5.16075641e-02 -4.30835178e-03\n",
      "   5.80247194e-02  1.86945442e-02  2.27809716e-02  3.21666077e-02\n",
      "   5.37978522e-02  7.02849627e-02  7.49312341e-02 -8.41775015e-02]]\n"
     ]
    }
   ],
   "source": [
    "from sentence_transformers import SentenceTransformer\n",
    "sentences = [\"This is an example sentence\", \"Each sentence is converted\"]\n",
    "\n",
    "model = SentenceTransformer('sentence-transformers/all-MiniLM-L6-v2')\n",
    "embeddings = model.encode(sentences)\n",
    "print(embeddings)"
   ]
  },
  {
   "cell_type": "code",
   "execution_count": 48,
   "metadata": {},
   "outputs": [
    {
     "name": "stderr",
     "output_type": "stream",
     "text": [
      "/Users/ashwin.gangadhar/anaconda3/lib/python3.9/site-packages/langchain/llms/openai.py:189: UserWarning: You are trying to use a chat model. This way of initializing it is no longer supported. Instead, please use: `from langchain.chat_models import ChatOpenAI`\n",
      "  warnings.warn(\n",
      "/Users/ashwin.gangadhar/anaconda3/lib/python3.9/site-packages/langchain/llms/openai.py:769: UserWarning: You are trying to use a chat model. This way of initializing it is no longer supported. Instead, please use: `from langchain.chat_models import ChatOpenAI`\n",
      "  warnings.warn(\n"
     ]
    },
    {
     "data": {
      "text/plain": [
       "'ಕ್ರೆಡಿಟ್ ಕಾರ್ಡ್ ಬಳಸಿ ವ್ಯಯ ಮಾಡಲು, ಎಲ್ಲಾ ಸಮಯದಲ್ಲಿ ಎಲ್ಲಾ ಸ್ಥಳಗಳಲ್ಲಿ ಸಾಧ್ಯವಾಗುತ್ತದೆ! ಶಾಪಿಂಗ್, ಪ್ರಯಾಣ, ಚಲನಚಿತ್ರ ಟಿಕೆಟ್ಗಳನ್ನು ಖರೀದಿಸಿ ಮತ್ತು ಇನ್ನಷ್ಟು ಮಾಡಿ. ಪ್ರತಿ ಬಾರಿ ನೀವು ಕೋಟಾಕ್ ಕ್ರೆಡಿಟ್ ಕಾರ್ಡ್ ಬಳಸುವಾಗ ಪ್ರತಿಫಲ ಮತ್ತು ಕ್ಯಾಶ್\\u200cಬ್ಯಾಕ್ ಗಳನ್ನು ಗಳಿಸಿ.'"
      ]
     },
     "execution_count": 48,
     "metadata": {},
     "output_type": "execute_result"
    }
   ],
   "source": [
    "# import\n",
    "from langchain.embeddings.sentence_transformer import SentenceTransformerEmbeddings\n",
    "from langchain.text_splitter import CharacterTextSplitter\n",
    "from langchain.vectorstores import Chroma\n",
    "from langchain.document_loaders import TextLoader\n",
    "from langchain.llms import OpenAI\n",
    "\n",
    "loader = TextLoader(\"/Users/ashwin.gangadhar/projects/mdb-bfsi-genai/notebooks/temp.txt\")\n",
    "documents = loader.load()\n",
    "text_splitter = CharacterTextSplitter(chunk_size=2000, chunk_overlap=200)\n",
    "docs = text_splitter.split_documents(documents)\n",
    "embedding_function = SentenceTransformerEmbeddings(model_name=\"all-MiniLM-L6-v2\")\n",
    "vectorstore = Chroma.from_documents(docs, embedding_function)\n",
    "query = \"what can a credit card be used for\"\n",
    "docs = vectorstore.similarity_search(query)\n",
    "prompt = \"User Question:{question}\\n Context:{context} \\n Instruction:Answer to the user question is present in context, if not answer 'I dont know' \\n Output Language:{language}  Answer:\"\n",
    "prompt_template = PromptTemplate.from_template(prompt)\n",
    "llm = OpenAI(temperature=0, model_name=\"gpt-3.5-turbo\")\n",
    "llm_chain = LLMChain(llm=llm, prompt=prompt_template)\n",
    "llm_chain.run({\"question\": query, \"context\": '\\n'.join(e.page_content for e in docs), \"language\": \"kannada\"})"
   ]
  },
  {
   "cell_type": "code",
   "execution_count": 31,
   "metadata": {},
   "outputs": [
    {
     "name": "stdout",
     "output_type": "stream",
     "text": [
      "[Document(page_content=\"Why Credit Cards?\\nA credit card enables payments, anytime, anywhere! Shop, travel, buy movie tickets & do much more. The list is endless! What's more? Earn rewards and cashback whenever you use Kotak credit cards.\\nGet an instant Credit Card in just 3 easy steps!\\ncc-step-1\\nStep 1: Select Your Ideal Credit Card\\nChoose a Credit Card based on your interests, such as Movies, Travel, Shopping, and more\\n\\ncc-step-2\\nStep 2: Share Your Basic Information\\nSimply share your basic details like your Name, Phone Number, PAN, and Aadhar\\n\\ncc-step-3\\nStep 3: Complete VKYC and Receive Your Virtual Card\\nFinish the VKYC process, receive your virtual card, and start exploring irresistible offers on your new Credit Card\", metadata={'source': '/Users/ashwin.gangadhar/projects/mdb-bfsi-genai/notebooks/temp.txt'})]\n"
     ]
    }
   ],
   "source": []
  },
  {
   "cell_type": "code",
   "execution_count": 32,
   "metadata": {},
   "outputs": [
    {
     "name": "stderr",
     "output_type": "stream",
     "text": [
      "Created a chunk of size 399, which is longer than the specified 100\n",
      "Created a chunk of size 124, which is longer than the specified 100\n"
     ]
    },
    {
     "name": "stdout",
     "output_type": "stream",
     "text": [
      "[Document(page_content=\"Why Credit Cards?\\nA credit card enables payments, anytime, anywhere! Shop, travel, buy movie tickets & do much more. The list is endless! What's more? Earn rewards and cashback whenever you use Kotak credit cards.\\nGet an instant Credit Card in just 3 easy steps!\\ncc-step-1\\nStep 1: Select Your Ideal Credit Card\\nChoose a Credit Card based on your interests, such as Movies, Travel, Shopping, and more\", metadata={'source': '/Users/ashwin.gangadhar/projects/mdb-bfsi-genai/notebooks/temp.txt'}), Document(page_content='cc-step-2\\nStep 2: Share Your Basic Information\\nSimply share your basic details like your Name, Phone Number, PAN, and Aadhar', metadata={'source': '/Users/ashwin.gangadhar/projects/mdb-bfsi-genai/notebooks/temp.txt'}), Document(page_content='cc-step-3\\nStep 3: Complete VKYC and Receive Your Virtual Card\\nFinish the VKYC process, receive your virtual card, and start exploring irresistible offers on your new Credit Card', metadata={'source': '/Users/ashwin.gangadhar/projects/mdb-bfsi-genai/notebooks/temp.txt'})]\n"
     ]
    }
   ],
   "source": []
  },
  {
   "cell_type": "code",
   "execution_count": 36,
   "metadata": {},
   "outputs": [],
   "source": []
  },
  {
   "cell_type": "code",
   "execution_count": 39,
   "metadata": {},
   "outputs": [],
   "source": []
  },
  {
   "cell_type": "code",
   "execution_count": 45,
   "metadata": {},
   "outputs": [
    {
     "name": "stderr",
     "output_type": "stream",
     "text": [
      "Number of requested results 4 is greater than number of elements in index 3, updating n_results = 3\n"
     ]
    }
   ],
   "source": []
  },
  {
   "cell_type": "code",
   "execution_count": 46,
   "metadata": {},
   "outputs": [
    {
     "data": {
      "text/plain": [
       "'ಕ್ರೆಡಿಟ್ ಕಾರ್ಡ್ ಬಳಸಲು ಹೇಗೆ ಬಳಸಬಹುದು ಎಂದು ನೀವು ಕೇಳಿದ್ದೀರಿ. ಕ್ರೆಡಿಟ್ ಕಾರ್ಡ್ ಬಳಸಿ ನೀವು ಯಾವುದೇ ಸಮಯದಲ್ಲಿ ಯಾವುದೇ ಪಾವತಿಗಳನ್ನು ಮಾಡಬಹುದು! ಶಾಪಿಂಗ್ ಮಾಡಿ, ಪ್ರಯಾಣ ಮಾಡಿ, ಚಲನಚಿತ್ರ ಟಿಕೆಟ್ಗಳನ್ನು ಖರೀದಿಸಿ ಮತ್ತು ಇನ್ನಷ್ಟು ಮಾಡಿ. ಈ ಪಟ್ಟಿ ಅನಿವಾರ್ಯ! ಇದಲ್ಲದೆ, ನೀವು ಕೋಟಾಕ್ ಕ್ರೆಡಿಟ್ ಕಾರ್ಡ್ ಬಳಸುವಾಗ ಪ್ರತಿಫಲ ಮತ್ತು ನಗದು ಪಡೆಯಿರಿ. \\n3 ಸುಲಭ ಹೆಜ್ಜೆಗಳಲ್ಲಿ ತಕ್ಷಣ ಕ್ರೆಡಿಟ್ ಕಾರ್ಡ್ ಪಡೆಯಿರಿ!\\nಹೆಜ್ಜೆ 1: ನಿಮ್ಮ ಆಸಕ್ತಿಗೆ ಅನುಸಾರವಾಗಿ ಕ್ರೆಡಿಟ್ ಕಾರ್ಡ್ ಆಯ್ಕೆಮಾಡಿ\\nಚಲನಚಿತ್ರಗಳು, ಪ್ರಯಾಣ, ಶಾಪಿಂಗ್ ಮುಂತಾದವುಗಳ ಆಧಾರದ ಮೇಲೆ ಕ್ರೆಡಿಟ್ ಕಾರ್ಡ್ ಆಯ್ಕೆಮಾಡಿ\\nಹೆಜ್ಜೆ 3: VKYC ಪೂರ್ಣಗೊಳಿಸಿ ಮತ್ತು ನಿಮ್ಮ ವರ್ಚುವಲ್ ಕಾರ್ಡ್ ಪಡೆಯಿರಿ\\nVKYC ಪ್ರಕ್ರಿಯೆಯನ್ನು ಮುಗಿಸಿ, ನಿಮ್ಮ ವರ್ಚುವಲ್ ಕಾರ್ಡ್ ಪಡೆಯಿರಿ ಮತ್ತು ನಿಮ್ಮ ಹೊಸ ಕ್ರೆಡಿಟ್ ಕಾರ್ಡ್ ಮೇಲೆ ಆಕರ್ಷಕ ಆಫರ್ಗಳನ್ನು ಅನ್ವೇಷಿಸಲು ಪ್ರಾರಂಭಿಸಿ\\nಹೆಜ್ಜೆ 2: ನಿಮ್ಮ ಮೂಲ ಮಾಹಿತಿಯನ್ನು ಹಂಚಿಕೊಳ್ಳಿ\\nನಿಮ್ಮ ಹೆಸರು, ಫೋನ್ ಸಂಖ್ಯೆ, ಪ್ಯಾನ್ ಮತ್ತು ಆಧಾರ್ ಮೊದಲಾದ ನಿಮ್ಮ ಮೂಲ ವಿವರಗಳನ್ನು ಹಂಚಿಕೊಳ್ಳಿ.'"
      ]
     },
     "execution_count": 46,
     "metadata": {},
     "output_type": "execute_result"
    }
   ],
   "source": []
  },
  {
   "cell_type": "code",
   "execution_count": null,
   "metadata": {},
   "outputs": [],
   "source": []
  }
 ],
 "metadata": {
  "kernelspec": {
   "display_name": "base",
   "language": "python",
   "name": "python3"
  },
  "language_info": {
   "codemirror_mode": {
    "name": "ipython",
    "version": 3
   },
   "file_extension": ".py",
   "mimetype": "text/x-python",
   "name": "python",
   "nbconvert_exporter": "python",
   "pygments_lexer": "ipython3",
   "version": "3.9.17"
  },
  "orig_nbformat": 4
 },
 "nbformat": 4,
 "nbformat_minor": 2
}
