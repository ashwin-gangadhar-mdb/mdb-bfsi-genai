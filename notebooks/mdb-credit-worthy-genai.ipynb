{
 "cells": [
  {
   "cell_type": "code",
   "execution_count": 2,
   "id": "802a992e-abbb-4815-a426-99dc08de707f",
   "metadata": {},
   "outputs": [
    {
     "data": {
      "text/plain": [
       "True"
      ]
     },
     "execution_count": 2,
     "metadata": {},
     "output_type": "execute_result"
    }
   ],
   "source": [
    "import pandas as pd\n",
    "from sklearn.model_selection import train_test_split\n",
    "from xgboost import XGBRegressor, XGBClassifier\n",
    "import numpy as np\n",
    "\n",
    "from langchain.prompts import PromptTemplate\n",
    "from langchain.chat_models import ChatOpenAI\n",
    "from langchain.retrievers.multi_query import MultiQueryRetriever\n",
    "\n",
    "from pymongo import MongoClient\n",
    "from dotenv import load_dotenv\n",
    "import os\n",
    "import joblib\n",
    "from glob import glob\n",
    "\n",
    "from langchain.embeddings.huggingface import HuggingFaceInstructEmbeddings\n",
    "from langchain.vectorstores import MongoDBAtlasVectorSearch\n",
    "from pprint import pprint\n",
    "\n",
    "load_dotenv()"
   ]
  },
  {
   "cell_type": "markdown",
   "id": "a12cff12",
   "metadata": {},
   "source": [
    "# Initialize the MongoDB Atlas connector to perform Vector Search queries"
   ]
  },
  {
   "cell_type": "code",
   "execution_count": 3,
   "id": "6ebde6f3",
   "metadata": {},
   "outputs": [
    {
     "name": "stderr",
     "output_type": "stream",
     "text": [
      "/Users/ashwin.gangadhar/anaconda3/lib/python3.9/site-packages/InstructorEmbedding/instructor.py:7: TqdmExperimentalWarning: Using `tqdm.autonotebook.tqdm` in notebook mode. Use `tqdm.tqdm` instead to force console mode (e.g. in jupyter console)\n",
      "  from tqdm.autonotebook import trange\n"
     ]
    },
    {
     "name": "stdout",
     "output_type": "stream",
     "text": [
      "load INSTRUCTOR_Transformer\n",
      "max_seq_length  512\n"
     ]
    }
   ],
   "source": [
    "MONGO_CONN=os.environ.get(\"MONGO_CONNECTION_STRING\")\n",
    "client = MongoClient(MONGO_CONN)\n",
    "col = client[\"bfsi-genai\"][\"credit_history\"]\n",
    "vcol = client[\"bfsi-genai\"][\"cc_products\"]\n",
    "\n",
    "llm = ChatOpenAI(temperature=0.2, model_name=\"gpt-3.5-turbo\")\n",
    "llm_large= ChatOpenAI(temperature=0, model_name=\"gpt-4\")\n",
    "repo_id = \"hkunlp/instructor-base\"\n",
    "hf = HuggingFaceInstructEmbeddings(model_name=repo_id, cache_folder=\"tmp/\")\n",
    "hf.embed_instruction = \"Represent the document for retrieval of personalized credit cards:\"\n",
    "vectorstore = MongoDBAtlasVectorSearch(vcol, hf)"
   ]
  },
  {
   "cell_type": "markdown",
   "id": "325d6771",
   "metadata": {},
   "source": [
    "# Train a ML Model to predict Candidate deliquency and save model as ckpt"
   ]
  },
  {
   "cell_type": "code",
   "execution_count": 5,
   "id": "bafe499b-194f-4a06-b78f-1ca4b3bcfd35",
   "metadata": {},
   "outputs": [
    {
     "name": "stdout",
     "output_type": "stream",
     "text": [
      "i am here\n"
     ]
    },
    {
     "name": "stderr",
     "output_type": "stream",
     "text": [
      "/Users/ashwin.gangadhar/anaconda3/lib/python3.9/site-packages/xgboost/core.py:160: UserWarning: [19:28:10] WARNING: /Users/runner/work/xgboost/xgboost/src/learner.cc:742: \n",
      "Parameters: { \"verbose\" } are not used.\n",
      "\n",
      "  warnings.warn(smsg, UserWarning)\n"
     ]
    }
   ],
   "source": [
    "df = pd.DataFrame.from_records(col.find({}, {\"_id\":0,\"Unnamed: 0\":0}))\n",
    "\n",
    "# Separate target from predictors\n",
    "y = df.SeriousDlqin2yrs\n",
    "X = df.drop(['SeriousDlqin2yrs'], axis=1)\n",
    "\n",
    "if \"../model/classifier.jlb\" in glob(\"../model/*\"):\n",
    "    print(\"i am here\")\n",
    "    # Divide data into training and validation subsets\n",
    "    X_train, X_valid, y_train, y_valid = train_test_split(X, y, test_size=0.2, random_state=42, stratify=y)\n",
    "\n",
    "\n",
    "    model = XGBClassifier(learning_rate = 0.1, n_estimators = 1000, verbose = 1)\n",
    "\n",
    "    model.fit(X_train, y_train)\n",
    "    joblib.dump(model, \"../model/classifier.jlb\")\n",
    "else:\n",
    "    model = joblib.load(\"../model/classifier.jlb\")"
   ]
  },
  {
   "cell_type": "markdown",
   "id": "9c90ff1f",
   "metadata": {},
   "source": [
    "# Load saved Classifier model"
   ]
  },
  {
   "cell_type": "code",
   "execution_count": 48,
   "id": "c518d97c",
   "metadata": {},
   "outputs": [
    {
     "name": "stdout",
     "output_type": "stream",
     "text": [
      "Percentage change the user is going to miss his payments:  0.7082840800285339\n"
     ]
    }
   ],
   "source": [
    "#do not run each time\n",
    "model = joblib.load(\"../model/classifier.jlb\")\n",
    "imp_idx = np.argsort(-1 * model.feature_importances_)"
   ]
  },
  {
   "cell_type": "markdown",
   "id": "9593bc3b",
   "metadata": {},
   "source": [
    "# Predict the Chance of Delinquency"
   ]
  },
  {
   "cell_type": "code",
   "execution_count": 50,
   "id": "03882c2e",
   "metadata": {},
   "outputs": [
    {
     "name": "stdout",
     "output_type": "stream",
     "text": [
      "Percentage change the user is going to miss his payments:  0.7082840800285339\n"
     ]
    }
   ],
   "source": [
    "user_id = 241\n",
    "\n",
    "df = pd.DataFrame.from_records((col.find({\"Unnamed: 0\":user_id}, {\"_id\":0,\"Unnamed: 0\":0, \"SeriousDlqin2yrs\":0})))\n",
    "feature_importance = \"\\n\".join(i for i in list(map(lambda x:f\"Columns:{x[0]}  Prob score for decision making:{x[1]}\" ,zip(df.columns[imp_idx], model.feature_importances_[imp_idx]))))\n",
    "user_profile_ip = df.to_dict(orient=\"records\")[0]\n",
    "pred = model.predict_proba(df)[:,1][0]\n",
    "print(f\"Percentage change the user is going to miss his payments:  {pred}\")"
   ]
  },
  {
   "cell_type": "markdown",
   "id": "c7beb480",
   "metadata": {},
   "source": [
    "# Approved Credit Limit"
   ]
  },
  {
   "cell_type": "code",
   "execution_count": 49,
   "id": "d4ca40e5",
   "metadata": {},
   "outputs": [
    {
     "name": "stdout",
     "output_type": "stream",
     "text": [
      "Allowed Credit Limit for the user: 240666\n"
     ]
    }
   ],
   "source": [
    "allowed_credit_limit = int(np.ceil(df.MonthlyIncome*6*(1-pred)))\n",
    "print(f\"Allowed Credit Limit for the user: {allowed_credit_limit}\")"
   ]
  },
  {
   "cell_type": "markdown",
   "id": "1754b9a1",
   "metadata": {},
   "source": [
    "# Features important to classify by the model"
   ]
  },
  {
   "cell_type": "code",
   "execution_count": 41,
   "id": "1c1740e1-3b6f-4f75-9376-abf4e5cdf528",
   "metadata": {},
   "outputs": [
    {
     "name": "stdout",
     "output_type": "stream",
     "text": [
      "Columns:NumberOfTimes90DaysLate  Prob score for decision making:0.45220547914505005\n",
      "Columns:NumberOfTime30-59DaysPastDueNotWorse  Prob score for decision making:0.12773236632347107\n",
      "Columns:NumberOfTime60-89DaysPastDueNotWorse  Prob score for decision making:0.12348417937755585\n",
      "Columns:RevolvingUtilizationOfUnsecuredLines  Prob score for decision making:0.0951855406165123\n",
      "Columns:NumberRealEstateLoansOrLines  Prob score for decision making:0.034801777452230453\n",
      "Columns:age  Prob score for decision making:0.03436748683452606\n",
      "Columns:MonthlyIncome  Prob score for decision making:0.03352366387844086\n",
      "Columns:NumberOfOpenCreditLinesAndLoans  Prob score for decision making:0.033431872725486755\n",
      "Columns:NumberOfDependents  Prob score for decision making:0.03271704167127609\n",
      "Columns:DebtRatio  Prob score for decision making:0.03255053237080574\n"
     ]
    }
   ],
   "source": [
    "\n",
    "print(feature_importance)"
   ]
  },
  {
   "cell_type": "markdown",
   "id": "b34f98af",
   "metadata": {},
   "source": [
    "# Custom Prompt To explain the approved credit limit"
   ]
  },
  {
   "cell_type": "code",
   "execution_count": 51,
   "id": "f8f509e1-68aa-4ebe-938b-b7b695fa9f39",
   "metadata": {},
   "outputs": [
    {
     "name": "stdout",
     "output_type": "stream",
     "text": [
      "\n",
      "##Instruction: Taking into account the Definitions of various fields and their respective values a model is trained to predict weather a person will expericen delinquency or not in the next 2 years. Below both the values that was input to the model and the result produced by the model are provided. As a bank employee response to the candidate, It is expected to provide a detailed reason in layman language as to why a Credit request was rejected or processed given the profile of the candidate. Also while providing reason do not mention the use of AI model being used for decision making.\n",
      "\n",
      "##Definitions\n",
      "RevolvingUtilizationOfUnsecuredLines=Total balance on credit cards and personal lines of credit except real estate and no installment debt like car loans divided by the sum of credit limits DataType=percentage\n",
      "age=Age of borrower in years DataType=integer\n",
      "NumberOfTime30-59DaysPastDueNotWorse=Number of times borrower has been 30-59 days past due but no worse in the last 2 years. DataType=integer\n",
      "DebtRatio=Monthly debt payments, alimony,living costs divided by monthy gross income DataType=percentage\n",
      "MonthlyIncome=Monthly income in INR DataType=real\n",
      "NumberOfOpenCreditLinesAndLoans=Number of Open loans (installment like car loan or mortgage) and Lines of credit (e.g. credit cards) DataType=integer\n",
      "NumberOfTimes90DaysLate=Number of times borrower has been 90 days or more past due. DataType=integer\n",
      "NumberRealEstateLoansOrLines=Number of mortgage and real estate loans including home equity lines of credit DataType=integer\n",
      "NumberOfTime60-89DaysPastDueNotWorse=Number of times borrower has been 60-89 days past due but no worse in the last 2 years. DataType=integer\n",
      "NumberOfDependents=Number of dependents in family excluding themselves (spouse, children etc.) DataType=integer\n",
      "SeriousDlqin2yrs=Person experienced 90 days past due delinquency or worse  DataType=Percentage\n",
      "\n",
      "##Feature importace of the model used:\n",
      "Columns:NumberOfTimes90DaysLate  Prob score for decision making:0.45220547914505005\n",
      "Columns:NumberOfTime30-59DaysPastDueNotWorse  Prob score for decision making:0.12773236632347107\n",
      "Columns:NumberOfTime60-89DaysPastDueNotWorse  Prob score for decision making:0.12348417937755585\n",
      "Columns:RevolvingUtilizationOfUnsecuredLines  Prob score for decision making:0.0951855406165123\n",
      "Columns:NumberRealEstateLoansOrLines  Prob score for decision making:0.034801777452230453\n",
      "Columns:age  Prob score for decision making:0.03436748683452606\n",
      "Columns:MonthlyIncome  Prob score for decision making:0.03352366387844086\n",
      "Columns:NumberOfOpenCreditLinesAndLoans  Prob score for decision making:0.033431872725486755\n",
      "Columns:NumberOfDependents  Prob score for decision making:0.03271704167127609\n",
      "Columns:DebtRatio  Prob score for decision making:0.03255053237080574\n",
      "\n",
      "##Values for given profile to be use to predict the Result(SeriousDlqin2yrs) with a reason\n",
      "{'RevolvingUtilizationOfUnsecuredLines': 0.973339258, 'age': 61, 'NumberOfTime30-59DaysPastDueNotWorse': 1, 'DebtRatio': 0.209961825, 'MonthlyIncome': 137500.0, 'NumberOfOpenCreditLinesAndLoans': 11, 'NumberOfTimes90DaysLate': 0, 'NumberRealEstateLoansOrLines': 0, 'NumberOfTime60-89DaysPastDueNotWorse': 1, 'NumberOfDependents': 1.0}\n",
      "\n",
      "## Model Result\n",
      "Allowed Credit Limit for the user=240666\n",
      "\n",
      "##Reason in step by step points:\n",
      "\n"
     ]
    }
   ],
   "source": [
    "prompt = f\"\"\"\n",
    "##Instruction: Taking into account the Definitions of various fields and their respective values a model is trained to predict weather a person will expericen delinquency or not in the next 2 years. Below both the values that was input to the model and the result produced by the model are provided. As a bank employee response to the candidate, It is expected to provide a detailed reason in layman language as to why a Credit request was rejected or processed given the profile of the candidate. Also while providing reason do not mention the use of AI model being used for decision making.\n",
    "\n",
    "##Definitions\n",
    "RevolvingUtilizationOfUnsecuredLines=Total balance on credit cards and personal lines of credit except real estate and no installment debt like car loans divided by the sum of credit limits DataType=percentage\n",
    "age=Age of borrower in years DataType=integer\n",
    "NumberOfTime30-59DaysPastDueNotWorse=Number of times borrower has been 30-59 days past due but no worse in the last 2 years. DataType=integer\n",
    "DebtRatio=Monthly debt payments, alimony,living costs divided by monthy gross income DataType=percentage\n",
    "MonthlyIncome=Monthly income in INR DataType=real\n",
    "NumberOfOpenCreditLinesAndLoans=Number of Open loans (installment like car loan or mortgage) and Lines of credit (e.g. credit cards) DataType=integer\n",
    "NumberOfTimes90DaysLate=Number of times borrower has been 90 days or more past due. DataType=integer\n",
    "NumberRealEstateLoansOrLines=Number of mortgage and real estate loans including home equity lines of credit DataType=integer\n",
    "NumberOfTime60-89DaysPastDueNotWorse=Number of times borrower has been 60-89 days past due but no worse in the last 2 years. DataType=integer\n",
    "NumberOfDependents=Number of dependents in family excluding themselves (spouse, children etc.) DataType=integer\n",
    "SeriousDlqin2yrs=Person experienced 90 days past due delinquency or worse  DataType=Percentage\n",
    "\n",
    "##Feature importace of the model used:\n",
    "{feature_importance}\n",
    "\n",
    "##Values for given profile to be use to predict the Result(SeriousDlqin2yrs) with a reason\n",
    "{user_profile_ip}\n",
    "\n",
    "## Model Result\n",
    "Allowed Credit Limit for the user={allowed_credit_limit}\n",
    "\n",
    "##Reason in step by step points:\n",
    "\"\"\"\n",
    "print(prompt)"
   ]
  },
  {
   "cell_type": "code",
   "execution_count": 52,
   "id": "7c1bb447-f4eb-430a-a225-5d20b0f02d54",
   "metadata": {},
   "outputs": [
    {
     "name": "stdout",
     "output_type": "stream",
     "text": [
      "1. The person's revolving utilization of unsecured lines is 0.973, which means they have a high balance on their credit cards and personal lines of credit compared to their credit limits. This indicates that they may be relying heavily on credit and may have difficulty managing their debt.\n",
      "\n",
      "2. The person's age is 61, which suggests that they may be closer to retirement age. This could be a factor in the decision as it may affect their ability to repay the credit in the future.\n",
      "\n",
      "3. The person has been 30-59 days past due but no worse in the last 2 years. While this is not a severe delinquency, it still indicates a potential risk of late payments.\n",
      "\n",
      "4. The person's debt ratio is 0.209, which means their monthly debt payments, alimony, and living costs are relatively high compared to their monthly gross income. This indicates a higher financial burden and may make it difficult for them to make timely payments.\n",
      "\n",
      "5. The person's monthly income is 137,500 INR, which is a relatively high income. However, it is important to consider their other financial obligations and the debt ratio mentioned earlier.\n",
      "\n",
      "6. The person has 11 open credit lines and loans, which suggests they have multiple financial obligations. This may increase the risk of defaulting on payments.\n",
      "\n",
      "7. The person has not been 90 days or more past due in the last 2 years, which is a positive factor indicating a lower risk of severe delinquency.\n",
      "\n",
      "8. The person does not have any real estate loans or lines of credit, which may indicate a lack of collateral or assets that can be used to secure the credit.\n",
      "\n",
      "9. The person has been 60-89 days past due but no worse in the last 2 years. While this is not as severe as being 90 days or more past due, it still indicates a potential risk of late payments.\n",
      "\n",
      "10. The person has 1 dependent, which may affect their ability to meet their financial obligations and increase their risk of delinquency.\n",
      "\n",
      "Based on these factors, the model has determined that the person is eligible for a credit limit of 240,666 INR. However, it is important to note that this decision is based on various factors and the model's analysis of the individual's profile.\n"
     ]
    }
   ],
   "source": [
    "response = llm.predict(prompt)\n",
    "print(response)"
   ]
  },
  {
   "cell_type": "markdown",
   "id": "e8aa0e0f-c4fa-4c7c-86d9-ae5e4176ac5b",
   "metadata": {},
   "source": [
    "# Credit Card suggestions"
   ]
  },
  {
   "cell_type": "code",
   "execution_count": null,
   "id": "379bf257",
   "metadata": {},
   "outputs": [],
   "source": [
    "# LLM powered retriver for product suggestions\n",
    "retriever = vectorstore.as_retriever(search_type='similarity',search_kwargs={'k': 3})\n",
    "recommender_retriever = MultiQueryRetriever.from_llm(retriever=retriever,llm=llm_large)"
   ]
  },
  {
   "cell_type": "code",
   "execution_count": 54,
   "id": "d6ac813f",
   "metadata": {},
   "outputs": [
    {
     "name": "stdout",
     "output_type": "stream",
     "text": [
      "('  \"titanium edge card\": \"1. Offers reward points for every ₹150 spent\\\\n2. '\n",
      " 'Provides dining privileges with 50% more reward points\\\\n3. Offers a fuel '\n",
      " 'surcharge waiver\\\\n4. EMV Chip technology for fraud protection\\\\n5. 50 days '\n",
      " 'of interest-free period for purchases\\\\n6. Revolving credit at a nominal '\n",
      " 'interest rate\",')\n",
      "('  \"platinum edge card\": \"1. Earns 2 reward points for every ₹150 spent\\\\n2. '\n",
      " '50% more reward points at premium restaurants\\\\n3. Fuel surcharge '\n",
      " 'waiver\\\\n4. EMV Chip Card technology for enhanced security\\\\n5. Zero '\n",
      " 'liability on lost cards\\\\n6. 50 interest-free days from the date of '\n",
      " 'purchase\",')\n"
     ]
    }
   ],
   "source": [
    "user_profile_based_card_template=f\"\"\"\n",
    "##Instruction: Given the user profile recommended credit cards that will best fit the user profile. Provide reason as to why the credit card is suggested to the user for each card.\n",
    "\n",
    "## User profile:\n",
    "{response}\n",
    "\n",
    "## Recommendations with reasons point by point:\n",
    "\"\"\"\n",
    "rec = recommender_retriever.get_relevant_documents(user_profile_based_card_template)\n",
    "card_suggestions= \"\"\n",
    "for r in rec:\n",
    "    card_suggestions += f'- Card name:{\" \".join(r.metadata[\"title\"].split(\"-\"))} card \\n  Card Features:{r.page_content} +\\n'\n",
    "\n",
    "recomendations_template=f\"\"\"\n",
    "##Instruction:\n",
    "-If the the user is considerd High/Moderate risk of default and suggestion on user profile in rejection of credit request then return \"No Credit Card Recomended\"\n",
    "-Given the user profile recommended credit cards that will best fit the user profile. \n",
    "-Provide card by card reasons(concise) as to why the credit card is suggested to the user.  \n",
    "\n",
    "## User profile:\n",
    "{response}\n",
    "\n",
    "## Recommended Credit cards if Eligible:\n",
    "{card_suggestions}\n",
    "\n",
    "## Recommendations=Output as Json with card name as Key and concise reasons point by point as Value:\n",
    "\"\"\"\n",
    "resp = llm.predict(recomendations_template)\n",
    "\n",
    "for ele in list(filter(lambda x:x!=\"\",resp.split(\"\\n\")[1:-1])):\n",
    "    pprint(ele)"
   ]
  },
  {
   "cell_type": "code",
   "execution_count": null,
   "id": "4d53c7b2",
   "metadata": {},
   "outputs": [],
   "source": []
  }
 ],
 "metadata": {
  "kernelspec": {
   "display_name": "Python 3 (ipykernel)",
   "language": "python",
   "name": "python3"
  },
  "language_info": {
   "codemirror_mode": {
    "name": "ipython",
    "version": 3
   },
   "file_extension": ".py",
   "mimetype": "text/x-python",
   "name": "python",
   "nbconvert_exporter": "python",
   "pygments_lexer": "ipython3",
   "version": "3.9.17"
  }
 },
 "nbformat": 4,
 "nbformat_minor": 5
}
