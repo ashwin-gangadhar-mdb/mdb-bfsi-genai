{
 "cells": [
  {
   "cell_type": "code",
   "execution_count": 2,
   "id": "802a992e-abbb-4815-a426-99dc08de707f",
   "metadata": {},
   "outputs": [
    {
     "data": {
      "text/plain": [
       "True"
      ]
     },
     "execution_count": 2,
     "metadata": {},
     "output_type": "execute_result"
    }
   ],
   "source": [
    "import pandas as pd\n",
    "from sklearn.model_selection import train_test_split\n",
    "from xgboost import XGBRegressor, XGBClassifier\n",
    "import numpy as np\n",
    "\n",
    "from langchain.prompts import PromptTemplate\n",
    "from langchain.chat_models import ChatOpenAI\n",
    "from langchain.retrievers.multi_query import MultiQueryRetriever\n",
    "\n",
    "from pymongo import MongoClient\n",
    "from dotenv import load_dotenv\n",
    "import os\n",
    "import joblib\n",
    "from glob import glob\n",
    "\n",
    "from langchain.embeddings.huggingface import HuggingFaceInstructEmbeddings\n",
    "from langchain.vectorstores import MongoDBAtlasVectorSearch\n",
    "from langchain.chains import RetrievalQA\n",
    "\n",
    "load_dotenv()"
   ]
  },
  {
   "cell_type": "markdown",
   "id": "a12cff12",
   "metadata": {},
   "source": [
    "# Init All models and connectors"
   ]
  },
  {
   "cell_type": "code",
   "execution_count": 4,
   "id": "6ebde6f3",
   "metadata": {},
   "outputs": [
    {
     "name": "stderr",
     "output_type": "stream",
     "text": [
      "/Users/ashwin.gangadhar/anaconda3/lib/python3.9/site-packages/InstructorEmbedding/instructor.py:7: TqdmExperimentalWarning: Using `tqdm.autonotebook.tqdm` in notebook mode. Use `tqdm.tqdm` instead to force console mode (e.g. in jupyter console)\n",
      "  from tqdm.autonotebook import trange\n",
      "INFO:sentence_transformers.SentenceTransformer:Load pretrained SentenceTransformer: hkunlp/instructor-base\n"
     ]
    },
    {
     "data": {
      "application/vnd.jupyter.widget-view+json": {
       "model_id": "d0fe7d9670ad4f7ca25ab4a03ad8c907",
       "version_major": 2,
       "version_minor": 0
      },
      "text/plain": [
       "Downloading (…)62736/.gitattributes:   0%|          | 0.00/1.48k [00:00<?, ?B/s]"
      ]
     },
     "metadata": {},
     "output_type": "display_data"
    },
    {
     "data": {
      "application/vnd.jupyter.widget-view+json": {
       "model_id": "666ff2ee5ac448d889f183d614fb332b",
       "version_major": 2,
       "version_minor": 0
      },
      "text/plain": [
       "Downloading (…)_Pooling/config.json:   0%|          | 0.00/270 [00:00<?, ?B/s]"
      ]
     },
     "metadata": {},
     "output_type": "display_data"
    },
    {
     "data": {
      "application/vnd.jupyter.widget-view+json": {
       "model_id": "445249dad2534f6cb3183c1dc73d9d31",
       "version_major": 2,
       "version_minor": 0
      },
      "text/plain": [
       "Downloading (…)/2_Dense/config.json:   0%|          | 0.00/115 [00:00<?, ?B/s]"
      ]
     },
     "metadata": {},
     "output_type": "display_data"
    },
    {
     "data": {
      "application/vnd.jupyter.widget-view+json": {
       "model_id": "a5ce2240c7d44815a867e9555ce2230e",
       "version_major": 2,
       "version_minor": 0
      },
      "text/plain": [
       "Downloading pytorch_model.bin:   0%|          | 0.00/2.36M [00:00<?, ?B/s]"
      ]
     },
     "metadata": {},
     "output_type": "display_data"
    },
    {
     "data": {
      "application/vnd.jupyter.widget-view+json": {
       "model_id": "3b6ab44b0beb4340986f9b509e3c978a",
       "version_major": 2,
       "version_minor": 0
      },
      "text/plain": [
       "Downloading (…)15e6562736/README.md:   0%|          | 0.00/66.2k [00:00<?, ?B/s]"
      ]
     },
     "metadata": {},
     "output_type": "display_data"
    },
    {
     "data": {
      "application/vnd.jupyter.widget-view+json": {
       "model_id": "6ff234e584f6492e8708d767ec116d31",
       "version_major": 2,
       "version_minor": 0
      },
      "text/plain": [
       "Downloading (…)e6562736/config.json:   0%|          | 0.00/1.55k [00:00<?, ?B/s]"
      ]
     },
     "metadata": {},
     "output_type": "display_data"
    },
    {
     "data": {
      "application/vnd.jupyter.widget-view+json": {
       "model_id": "0f419b27f5d04ec8895d442c9e46a66a",
       "version_major": 2,
       "version_minor": 0
      },
      "text/plain": [
       "Downloading (…)ce_transformers.json:   0%|          | 0.00/122 [00:00<?, ?B/s]"
      ]
     },
     "metadata": {},
     "output_type": "display_data"
    },
    {
     "data": {
      "application/vnd.jupyter.widget-view+json": {
       "model_id": "fea5996b68e341f1a50eae4189c11aff",
       "version_major": 2,
       "version_minor": 0
      },
      "text/plain": [
       "Downloading pytorch_model.bin:   0%|          | 0.00/439M [00:00<?, ?B/s]"
      ]
     },
     "metadata": {},
     "output_type": "display_data"
    },
    {
     "data": {
      "application/vnd.jupyter.widget-view+json": {
       "model_id": "935fbb3f0fd94a668288ac8db89bdc9b",
       "version_major": 2,
       "version_minor": 0
      },
      "text/plain": [
       "Downloading (…)nce_bert_config.json:   0%|          | 0.00/53.0 [00:00<?, ?B/s]"
      ]
     },
     "metadata": {},
     "output_type": "display_data"
    },
    {
     "data": {
      "application/vnd.jupyter.widget-view+json": {
       "model_id": "1b61b1574aa24df79d1a21bab4df155e",
       "version_major": 2,
       "version_minor": 0
      },
      "text/plain": [
       "Downloading (…)cial_tokens_map.json:   0%|          | 0.00/2.20k [00:00<?, ?B/s]"
      ]
     },
     "metadata": {},
     "output_type": "display_data"
    },
    {
     "data": {
      "application/vnd.jupyter.widget-view+json": {
       "model_id": "7afc64e1929d4c16913d3c15e2e8b694",
       "version_major": 2,
       "version_minor": 0
      },
      "text/plain": [
       "Downloading spiece.model:   0%|          | 0.00/792k [00:00<?, ?B/s]"
      ]
     },
     "metadata": {},
     "output_type": "display_data"
    },
    {
     "data": {
      "application/vnd.jupyter.widget-view+json": {
       "model_id": "d62ca7f734054430b1212aa09bf980e6",
       "version_major": 2,
       "version_minor": 0
      },
      "text/plain": [
       "Downloading (…)62736/tokenizer.json:   0%|          | 0.00/2.42M [00:00<?, ?B/s]"
      ]
     },
     "metadata": {},
     "output_type": "display_data"
    },
    {
     "data": {
      "application/vnd.jupyter.widget-view+json": {
       "model_id": "b3e2cd667ebc413fa12a0b2af0326c4d",
       "version_major": 2,
       "version_minor": 0
      },
      "text/plain": [
       "Downloading (…)okenizer_config.json:   0%|          | 0.00/2.43k [00:00<?, ?B/s]"
      ]
     },
     "metadata": {},
     "output_type": "display_data"
    },
    {
     "data": {
      "application/vnd.jupyter.widget-view+json": {
       "model_id": "73e7c092470a448391b2a97490f936a8",
       "version_major": 2,
       "version_minor": 0
      },
      "text/plain": [
       "Downloading (…)6562736/modules.json:   0%|          | 0.00/461 [00:00<?, ?B/s]"
      ]
     },
     "metadata": {},
     "output_type": "display_data"
    },
    {
     "name": "stdout",
     "output_type": "stream",
     "text": [
      "load INSTRUCTOR_Transformer\n"
     ]
    },
    {
     "name": "stderr",
     "output_type": "stream",
     "text": [
      "INFO:sentence_transformers.SentenceTransformer:Use pytorch device: cpu\n"
     ]
    },
    {
     "name": "stdout",
     "output_type": "stream",
     "text": [
      "max_seq_length  512\n"
     ]
    }
   ],
   "source": [
    "MONGO_CONN=os.environ.get(\"MONGO_CONNECTION_STRING\")\n",
    "client = MongoClient(MONGO_CONN)\n",
    "col = client[\"bfsi-genai\"][\"credit_history\"]\n",
    "vcol = client[\"bfsi-genai\"][\"cc_products\"]\n",
    "\n",
    "llm = ChatOpenAI(temperature=0.2, model_name=\"gpt-3.5-turbo\")\n",
    "llm_large= ChatOpenAI(temperature=0, model_name=\"gpt-4\")\n",
    "repo_id = \"hkunlp/instructor-base\"\n",
    "hf = HuggingFaceInstructEmbeddings(model_name=repo_id, cache_folder=\"tmp/\")\n",
    "hf.embed_instruction = \"Represent the document for retrieval of personalized credit cards:\"\n",
    "vectorstore = MongoDBAtlasVectorSearch(vcol, hf)\n",
    "\n",
    "# use pipeline only if group of results is required\n",
    "pipeline= [\n",
    "    {\"$addFields\":{\n",
    "            \"score\":{\"$meta\":\"searchScore\"}\n",
    "        }\n",
    "    },\n",
    "    {\n",
    "        '$group': {\n",
    "            '_id': '$title', \n",
    "            'source': {\n",
    "                '$first': '$source'\n",
    "            }, \n",
    "            'title': {\n",
    "                '$first': '$title'\n",
    "            }, \n",
    "            'text': {\n",
    "                '$push': '$text'\n",
    "            },\n",
    "            'score':{\"$avg\": \"$score\"}\n",
    "        }\n",
    "    }, {\n",
    "        '$addFields': {\n",
    "            'text': {\n",
    "                '$reduce': {\n",
    "                    'input': '$text', \n",
    "                    'initialValue': '', \n",
    "                    'in': {\n",
    "                        '$concat': [\n",
    "                            '$$value', '$$this'\n",
    "                        ]\n",
    "                    }\n",
    "                }\n",
    "            }\n",
    "        }\n",
    "    },\n",
    "    {\n",
    "        \"$sort\":{\n",
    "            \"score\": -1\n",
    "        }\n",
    "    },\n",
    "    {\n",
    "        '$limit': 5\n",
    "    }\n",
    "]\n",
    "\n",
    "\n",
    "# LLM powered retriver for product suggestions\n",
    "retriever = vectorstore.as_retriever(search_type='similarity',search_kwargs={'k': 3})\n",
    "recommender_retriever = MultiQueryRetriever.from_llm(retriever=retriever,llm=llm_large)"
   ]
  },
  {
   "cell_type": "markdown",
   "id": "325d6771",
   "metadata": {},
   "source": [
    "# Train a ML Model to predict Candidate deliquency and save model as ckpt"
   ]
  },
  {
   "cell_type": "code",
   "execution_count": 3,
   "id": "bafe499b-194f-4a06-b78f-1ca4b3bcfd35",
   "metadata": {},
   "outputs": [
    {
     "ename": "NameError",
     "evalue": "name 'col' is not defined",
     "output_type": "error",
     "traceback": [
      "\u001b[0;31m---------------------------------------------------------------------------\u001b[0m",
      "\u001b[0;31mNameError\u001b[0m                                 Traceback (most recent call last)",
      "\u001b[1;32m/Users/ashwin.gangadhar/projects/mdb-bfsi-genai/notebooks/mdb-credit-worthy-genai.ipynb Cell 5\u001b[0m line \u001b[0;36m1\n\u001b[0;32m----> <a href='vscode-notebook-cell:/Users/ashwin.gangadhar/projects/mdb-bfsi-genai/notebooks/mdb-credit-worthy-genai.ipynb#W4sZmlsZQ%3D%3D?line=0'>1</a>\u001b[0m df \u001b[39m=\u001b[39m pd\u001b[39m.\u001b[39mDataFrame\u001b[39m.\u001b[39mfrom_records(col\u001b[39m.\u001b[39mfind({}, {\u001b[39m\"\u001b[39m\u001b[39m_id\u001b[39m\u001b[39m\"\u001b[39m:\u001b[39m0\u001b[39m,\u001b[39m\"\u001b[39m\u001b[39mUnnamed: 0\u001b[39m\u001b[39m\"\u001b[39m:\u001b[39m0\u001b[39m}))\n\u001b[1;32m      <a href='vscode-notebook-cell:/Users/ashwin.gangadhar/projects/mdb-bfsi-genai/notebooks/mdb-credit-worthy-genai.ipynb#W4sZmlsZQ%3D%3D?line=2'>3</a>\u001b[0m \u001b[39m# Separate target from predictors\u001b[39;00m\n\u001b[1;32m      <a href='vscode-notebook-cell:/Users/ashwin.gangadhar/projects/mdb-bfsi-genai/notebooks/mdb-credit-worthy-genai.ipynb#W4sZmlsZQ%3D%3D?line=3'>4</a>\u001b[0m y \u001b[39m=\u001b[39m df\u001b[39m.\u001b[39mSeriousDlqin2yrs\n",
      "\u001b[0;31mNameError\u001b[0m: name 'col' is not defined"
     ]
    }
   ],
   "source": [
    "df = pd.DataFrame.from_records(col.find({}, {\"_id\":0,\"Unnamed: 0\":0}))\n",
    "\n",
    "# Separate target from predictors\n",
    "y = df.SeriousDlqin2yrs\n",
    "X = df.drop(['SeriousDlqin2yrs'], axis=1)\n",
    "\n",
    "if \"../model/classifier.jlb\" in glob(\"../model/*\"):\n",
    "    print(\"i am here\")\n",
    "    # Divide data into training and validation subsets\n",
    "    X_train, X_valid, y_train, y_valid = train_test_split(X, y, test_size=0.2, random_state=42, stratify=y)\n",
    "\n",
    "\n",
    "    model = XGBClassifier(learning_rate = 0.1, n_estimators = 1000, verbose = 1)\n",
    "\n",
    "    model.fit(X_train, y_train)\n",
    "    joblib.dump(model, \"../model/classifier.jlb\")\n",
    "else:\n",
    "    model = joblib.load(\"../model/classifier.jlb\")"
   ]
  },
  {
   "cell_type": "markdown",
   "id": "9c90ff1f",
   "metadata": {},
   "source": [
    "# Load saved Classifier model"
   ]
  },
  {
   "cell_type": "code",
   "execution_count": 98,
   "id": "c518d97c",
   "metadata": {},
   "outputs": [
    {
     "data": {
      "text/plain": [
       "0.44639033"
      ]
     },
     "execution_count": 98,
     "metadata": {},
     "output_type": "execute_result"
    }
   ],
   "source": [
    "#do not run each time\n",
    "model = joblib.load(\"../model/classifier.jlb\")\n",
    "imp_idx = np.argsort(-1 * model.feature_importances_)\n",
    "\n",
    "df = pd.DataFrame.from_records((col.find({\"Unnamed: 0\":241}, {\"_id\":0,\"Unnamed: 0\":0, \"SeriousDlqin2yrs\":0})))\n",
    "feature_importance = \"\\n\".join(i for i in list(map(lambda x:f\"Columns:{x[0]}  Prob score for decision making:{x[1]}\" ,zip(df.columns[imp_idx], model.feature_importances_[imp_idx]))))\n",
    "user_profile_ip = df.to_dict(orient=\"records\")[0]\n",
    "pred = model.predict_proba(df)[:,1][0]"
   ]
  },
  {
   "cell_type": "markdown",
   "id": "1754b9a1",
   "metadata": {},
   "source": [
    "# Features important to classify by the model"
   ]
  },
  {
   "cell_type": "code",
   "execution_count": 99,
   "id": "1c1740e1-3b6f-4f75-9376-abf4e5cdf528",
   "metadata": {},
   "outputs": [
    {
     "name": "stdout",
     "output_type": "stream",
     "text": [
      "Columns:NumberOfTimes90DaysLate  Prob score for decision making:0.46804147958755493\n",
      "Columns:NumberOfTime60-89DaysPastDueNotWorse  Prob score for decision making:0.12263187766075134\n",
      "Columns:NumberOfTime30-59DaysPastDueNotWorse  Prob score for decision making:0.11812681704759598\n",
      "Columns:RevolvingUtilizationOfUnsecuredLines  Prob score for decision making:0.09055158495903015\n",
      "Columns:NumberRealEstateLoansOrLines  Prob score for decision making:0.038781192153692245\n",
      "Columns:MonthlyIncome  Prob score for decision making:0.03306850045919418\n",
      "Columns:DebtRatio  Prob score for decision making:0.03270106017589569\n",
      "Columns:NumberOfOpenCreditLinesAndLoans  Prob score for decision making:0.03246095031499863\n",
      "Columns:NumberOfDependents  Prob score for decision making:0.03210572153329849\n",
      "Columns:age  Prob score for decision making:0.031530871987342834\n"
     ]
    }
   ],
   "source": [
    "\n",
    "print(feature_importance)"
   ]
  },
  {
   "cell_type": "code",
   "execution_count": 86,
   "id": "91d22531-5ea7-47cd-b259-1823d384b061",
   "metadata": {},
   "outputs": [],
   "source": [
    "# young 115\n",
    "# i=8\n",
    "# ip = X_valid[[\"RevolvingUtilizationOfUnsecuredLines\", \"age\", \"NumberOfTime30-59DaysPastDueNotWorse\", \"DebtRatio\", \"MonthlyIncome\", \"NumberOfOpenCreditLinesAndLoans\", \"NumberOfTimes90DaysLate\", \"NumberRealEstateLoansOrLines\", \"NumberOfTime60-89DaysPastDueNotWorse\", \"NumberOfDependents\"]]\n",
    "# c = ip.values[i].tolist()\n",
    "# dlq = res[i]\n",
    "# c,dlq"
   ]
  },
  {
   "cell_type": "code",
   "execution_count": 87,
   "id": "f8f509e1-68aa-4ebe-938b-b7b695fa9f39",
   "metadata": {},
   "outputs": [
    {
     "name": "stdout",
     "output_type": "stream",
     "text": [
      "\n",
      "##Instruction: Taking into account the Definitions of various fields and their respective values a model is trained to predict weather a person will expericen delinquency or not in the next 2 years. Below both the values that was input to the model and the result produced by the model are provided. As a bank employee response to the candidate, It is expected to provide a detailed reason in layman language as to why a Credit request was rejected or processed given the profile of the candidate. Also while providing reason do not mention the use of AI model being used for decision making.\n",
      "\n",
      "##Definitions\n",
      "RevolvingUtilizationOfUnsecuredLines=Total balance on credit cards and personal lines of credit except real estate and no installment debt like car loans divided by the sum of credit limits DataType=percentage\n",
      "age=Age of borrower in years DataType=integer\n",
      "NumberOfTime30-59DaysPastDueNotWorse=Number of times borrower has been 30-59 days past due but no worse in the last 2 years. DataType=integer\n",
      "DebtRatio=Monthly debt payments, alimony,living costs divided by monthy gross income DataType=percentage\n",
      "MonthlyIncome=Monthly income in INR DataType=real\n",
      "NumberOfOpenCreditLinesAndLoans=Number of Open loans (installment like car loan or mortgage) and Lines of credit (e.g. credit cards) DataType=integer\n",
      "NumberOfTimes90DaysLate=Number of times borrower has been 90 days or more past due. DataType=integer\n",
      "NumberRealEstateLoansOrLines=Number of mortgage and real estate loans including home equity lines of credit DataType=integer\n",
      "NumberOfTime60-89DaysPastDueNotWorse=Number of times borrower has been 60-89 days past due but no worse in the last 2 years. DataType=integer\n",
      "NumberOfDependents=Number of dependents in family excluding themselves (spouse, children etc.) DataType=integer\n",
      "SeriousDlqin2yrs=Person experienced 90 days past due delinquency or worse  DataType=Percentage\n",
      "\n",
      "##Feature importace of the model used:\n",
      "Columns:NumberOfTimes90DaysLate  Prob score for decision making:0.46804147958755493\n",
      "Columns:NumberOfTime60-89DaysPastDueNotWorse  Prob score for decision making:0.12263187766075134\n",
      "Columns:NumberOfTime30-59DaysPastDueNotWorse  Prob score for decision making:0.11812681704759598\n",
      "Columns:RevolvingUtilizationOfUnsecuredLines  Prob score for decision making:0.09055158495903015\n",
      "Columns:NumberRealEstateLoansOrLines  Prob score for decision making:0.038781192153692245\n",
      "Columns:MonthlyIncome  Prob score for decision making:0.03306850045919418\n",
      "Columns:DebtRatio  Prob score for decision making:0.03270106017589569\n",
      "Columns:NumberOfOpenCreditLinesAndLoans  Prob score for decision making:0.03246095031499863\n",
      "Columns:NumberOfDependents  Prob score for decision making:0.03210572153329849\n",
      "Columns:age  Prob score for decision making:0.031530871987342834\n",
      "\n",
      "##Values for given profile to be use to predict the Result(SeriousDlqin2yrs) with a reason\n",
      "{'RevolvingUtilizationOfUnsecuredLines': 0.973339258, 'age': 61, 'NumberOfTime30-59DaysPastDueNotWorse': 1, 'DebtRatio': 0.209961825, 'MonthlyIncome': 137500.0, 'NumberOfOpenCreditLinesAndLoans': 11, 'NumberOfTimes90DaysLate': 0, 'NumberRealEstateLoansOrLines': 0, 'NumberOfTime60-89DaysPastDueNotWorse': 1, 'NumberOfDependents': 1.0}\n",
      "\n",
      "## Model Result\n",
      "SeriousDlqin2yrs=0.4463903307914734\n",
      "\n",
      "##Reason in step by step points:\n",
      "\n"
     ]
    }
   ],
   "source": [
    "prompt = f\"\"\"\n",
    "##Instruction: Taking into account the Definitions of various fields and their respective values a model is trained to predict weather a person will expericen delinquency or not in the next 2 years. Below both the values that was input to the model and the result produced by the model are provided. As a bank employee response to the candidate, It is expected to provide a detailed reason in layman language as to why a Credit request was rejected or processed given the profile of the candidate. Also while providing reason do not mention the use of AI model being used for decision making.\n",
    "\n",
    "##Definitions\n",
    "RevolvingUtilizationOfUnsecuredLines=Total balance on credit cards and personal lines of credit except real estate and no installment debt like car loans divided by the sum of credit limits DataType=percentage\n",
    "age=Age of borrower in years DataType=integer\n",
    "NumberOfTime30-59DaysPastDueNotWorse=Number of times borrower has been 30-59 days past due but no worse in the last 2 years. DataType=integer\n",
    "DebtRatio=Monthly debt payments, alimony,living costs divided by monthy gross income DataType=percentage\n",
    "MonthlyIncome=Monthly income in INR DataType=real\n",
    "NumberOfOpenCreditLinesAndLoans=Number of Open loans (installment like car loan or mortgage) and Lines of credit (e.g. credit cards) DataType=integer\n",
    "NumberOfTimes90DaysLate=Number of times borrower has been 90 days or more past due. DataType=integer\n",
    "NumberRealEstateLoansOrLines=Number of mortgage and real estate loans including home equity lines of credit DataType=integer\n",
    "NumberOfTime60-89DaysPastDueNotWorse=Number of times borrower has been 60-89 days past due but no worse in the last 2 years. DataType=integer\n",
    "NumberOfDependents=Number of dependents in family excluding themselves (spouse, children etc.) DataType=integer\n",
    "SeriousDlqin2yrs=Person experienced 90 days past due delinquency or worse  DataType=Percentage\n",
    "\n",
    "##Feature importace of the model used:\n",
    "{feature_importance}\n",
    "\n",
    "##Values for given profile to be use to predict the Result(SeriousDlqin2yrs) with a reason\n",
    "{user_profile_ip}\n",
    "\n",
    "## Model Result\n",
    "SeriousDlqin2yrs={pred}\n",
    "\n",
    "##Reason in step by step points:\n",
    "\"\"\"\n",
    "print(prompt)"
   ]
  },
  {
   "cell_type": "code",
   "execution_count": 88,
   "id": "7c1bb447-f4eb-430a-a225-5d20b0f02d54",
   "metadata": {},
   "outputs": [],
   "source": [
    "response = llm.predict(prompt)"
   ]
  },
  {
   "cell_type": "code",
   "execution_count": 89,
   "id": "a6fb0c4a-fa58-44ed-a2c2-7dd4ba4a67af",
   "metadata": {},
   "outputs": [
    {
     "name": "stdout",
     "output_type": "stream",
     "text": [
      "1. The person's revolving utilization of unsecured lines is 97.33%. This means that they have a high balance on their credit cards and personal lines of credit compared to their credit limits. This could indicate that they are relying heavily on credit and may have difficulty managing their debt.\n",
      "\n",
      "2. The person is 61 years old. Age can be a factor in determining creditworthiness as older individuals may have a more stable financial situation and a longer credit history.\n",
      "\n",
      "3. The person has been 30-59 days past due on their payments once in the last 2 years. This suggests that they have had some difficulty in making their payments on time.\n",
      "\n",
      "4. The person's debt ratio is 20.99%. This means that their monthly debt payments, including alimony and living costs, are almost 21% of their monthly gross income. A high debt ratio indicates that a significant portion of their income is going towards debt repayment, which may make it difficult for them to handle additional credit.\n",
      "\n",
      "5. The person has a monthly income of 137,500 INR. This is a relatively high income, which suggests that they have the financial means to repay their debts.\n",
      "\n",
      "6. The person has 11 open credit lines and loans. This indicates that they have multiple sources of credit, which could be a positive factor in their creditworthiness.\n",
      "\n",
      "7. The person has not been 90 days or more past due on their payments. This suggests that they have been able to manage their debts and make their payments on time.\n",
      "\n",
      "8. The person does not have any real estate loans or lines of credit. This means that they do not have any mortgage or home equity loans, which could be a positive factor as it reduces their overall debt burden.\n",
      "\n",
      "9. The person has been 60-89 days past due on their payments once in the last 2 years. This indicates that they have had some difficulty in making their payments on time, although it is not as severe as being 90 days or more past due.\n",
      "\n",
      "10. The person has 1 dependent. This means that they have one person, such as a spouse or child, who relies on their income. Having dependents can impact a person's ability to manage their finances and may increase their financial responsibilities.\n",
      "\n",
      "Based on these factors, the model predicts that the person has a 44.64% probability of experiencing delinquency in the next 2 years. This suggests that there is a moderate risk of the person being unable to make their payments on time. Therefore, the credit request may be rejected to mitigate the potential risk of delinquency.\n"
     ]
    }
   ],
   "source": [
    "print(response)"
   ]
  },
  {
   "cell_type": "markdown",
   "id": "e8aa0e0f-c4fa-4c7c-86d9-ae5e4176ac5b",
   "metadata": {},
   "source": [
    "# Credit Card suggestions"
   ]
  },
  {
   "cell_type": "code",
   "execution_count": 93,
   "id": "d6ac813f",
   "metadata": {},
   "outputs": [
    {
     "name": "stderr",
     "output_type": "stream",
     "text": [
      "INFO:root:Generated queries: ['1. What credit cards would be most suitable for a person with a high revolving utilization of unsecured lines and why?', '2. Which credit cards are recommended for a 61-year-old individual with a history of late payments and why?', '3. What are the best credit card options for someone with a debt ratio of 20.99% and why?', '', '1. What credit cards can be suggested for someone who heavily relies on credit and has a history of late payments, and what are the reasons for these suggestions?', '2. What credit cards are suitable for a 61-year-old with a high income but also a high debt ratio, and why are these cards recommended?', '3. What credit cards are recommended for someone with multiple open credit lines but no real estate loans, and why are these cards suggested?', '', '1. What credit cards are best for someone with a high balance on their credit cards and personal lines of credit, and why are these cards recommended?', '2. What credit cards are suitable for a person with a high income but a high debt ratio, and why are these cards suggested?', '3. What credit cards are recommended for someone with a moderate risk of delinquency, and why are these cards suggested?']\n"
     ]
    }
   ],
   "source": [
    "user_profile_based_card_template=f\"\"\"\n",
    "##Instruction: Given the user profile recommended credit cards that will best fit the user profile. Provide reason as to why the credit card is suggested to the user for each card.\n",
    "\n",
    "## User profile:\n",
    "{response}\n",
    "\n",
    "## Recommendations with reasons point by point:\n",
    "\"\"\"\n",
    "rec = recommender_retriever.get_relevant_documents(user_profile_based_card_template)\n",
    "card_suggestions= \"\"\n",
    "for r in rec:\n",
    "    card_suggestions += f'- Card name:{\" \".join(r.metadata[\"title\"].split(\"-\"))} card \\n  Card Features:{r.page_content} +\\n'\n",
    "\n",
    "recomendations_template=f\"\"\"\n",
    "##Instruction:\n",
    "-If the the user is considerd High/Moderate risk of default and suggestion on user profile in rejection of credit request then return \"No Credit Card Recomended\"\n",
    "-Given the user profile recommended credit cards that will best fit the user profile. \n",
    "-Provide card by card reasons(concise) as to why the credit card is suggested to the user.  \n",
    "\n",
    "## User profile:\n",
    "{response}\n",
    "\n",
    "## Recommended Credit cards if Eligible:\n",
    "{card_suggestions}\n",
    "\n",
    "## Recommendations=Output as Json with card name as Key and concise reasons point by point as Value:\n",
    "\"\"\"\n",
    "resp = llm.predict(recomendations_template)\n",
    "\n",
    "for ele in list(filter(lambda x:x!=\"\",resp.split(\"\\n\")[1:-1])):\n",
    "    print(ele)"
   ]
  },
  {
   "cell_type": "code",
   "execution_count": 94,
   "id": "c5b9a36e",
   "metadata": {},
   "outputs": [
    {
     "data": {
      "text/plain": [
       "['  \"titanium edge card\": \"1. Offers reward points for every ₹150 spent\\\\n2. Provides dining privileges with 50% more reward points\\\\n3. Fuel surcharge waiver of up to ₹250 per billing cycle\\\\n4. EMV Chip technology for fraud protection\\\\n5. 50 days of interest-free period for purchases\\\\n6. Revolving credit at a nominal interest rate\\\\n7. Eligibility criteria for salaried employees aged 21 to 60 or self-employed individuals aged 21 to 65\\\\n8. Annual fees can be waived by spending ₹50,000 in a']"
      ]
     },
     "execution_count": 94,
     "metadata": {},
     "output_type": "execute_result"
    }
   ],
   "source": [
    "resp.split(\"\\n\")[1:]"
   ]
  },
  {
   "cell_type": "code",
   "execution_count": 95,
   "id": "9100d226",
   "metadata": {},
   "outputs": [
    {
     "data": {
      "text/plain": [
       "'{\\n  \"titanium edge card\": \"1. Offers reward points for every ₹150 spent\\\\n2. Provides dining privileges with 50% more reward points\\\\n3. Fuel surcharge waiver of up to ₹250 per billing cycle\\\\n4. EMV Chip technology for fraud protection\\\\n5. 50 days of interest-free period for purchases\\\\n6. Revolving credit at a nominal interest rate\\\\n7. Eligibility criteria for salaried employees aged 21 to 60 or self-employed individuals aged 21 to 65\\\\n8. Annual fees can be waived by spending ₹50,000 in a'"
      ]
     },
     "execution_count": 95,
     "metadata": {},
     "output_type": "execute_result"
    }
   ],
   "source": [
    "resp"
   ]
  },
  {
   "cell_type": "code",
   "execution_count": 100,
   "id": "a9a719b7",
   "metadata": {},
   "outputs": [
    {
     "name": "stderr",
     "output_type": "stream",
     "text": [
      "INFO:root:Generated queries: ['1. What credit cards would be suitable for a person with a high revolving utilization of unsecured lines and why?', '2. Which credit cards are recommended for a 61-year-old individual with a history of late payments and why?', '3. What are the best credit cards for someone with a debt ratio of 20.99% and a monthly income of 137,500 INR and why?', '', '4. What credit cards are suitable for a person with 11 open credit lines and loans and no real estate loans or lines of credit and why?', '5. Which credit cards are recommended for a person who has been 60-89 days past due on their payments once in the last 2 years and has 1 dependent and why?', '', '6. What credit cards are suitable for a person with a 44.64% probability of experiencing delinquency in the next 2 years and why?']\n"
     ]
    }
   ],
   "source": [
    "rec = recommender_retriever.get_relevant_documents(user_profile_based_card_template)"
   ]
  },
  {
   "cell_type": "code",
   "execution_count": 101,
   "id": "37437da3",
   "metadata": {},
   "outputs": [
    {
     "data": {
      "text/plain": [
       "[Document(page_content='The credit card mentioned above offers various features and benefits. Users can earn reward points for every ₹150 spent and redeem them for exclusive gifts, air miles, or cash back against their outstanding credit card balance. The card also provides dining privileges with 50% more reward points, a fuel surcharge waiver of up to ₹250 per billing cycle, and EMV Chip technology for fraud protection. Users can enjoy 50 days of interest-free period for purchases and avail of revolving credit at a nominal interest rate. The eligibility criteria for the card are being a salaried employee aged 21 to 60 or a self-employed individual aged 21 to 65. The annual fees can be waived by spending ₹50,000 in a year, and there is a cash advance fee of 2.5% with a minimum of ₹500. Interest at a rate of 3.49% per month will be charged on any outstanding amount carried beyond the bill due date.', metadata={'_id': ObjectId('6517ebd2aba949c4b64d3be2'), 'source': 'https://www.tengenbank.com/personal/pay/cards/credit-cards/titanium-edge', 'title': 'titanium-edge'}),\n",
       " Document(page_content=\"The credit card mentioned above offers various features and benefits. Cardholders can earn 2 reward points for every ₹150 spent and can redeem these points as cash back or for gifts and air miles. They also receive 50% more reward points at premium restaurants. The card offers a waiver of fuel surcharge up to ₹250 per billing cycle, resulting in potential savings of up to ₹1800 per year. The card is equipped with EMV Chip Card technology for enhanced security and offers zero liability on lost cards. Cardholders can avail up to 50 interest-free days from the date of purchase and can also enjoy revolving credit at a nominal interest rate. The eligibility criteria for the card are 21-60 years of age for salaried employees and 21-65 years of age for self-employed individuals. The card has an annual fee, but it can be waived by spending ₹50,000 in a year. A cash advance fee of 2.5% (minimum ₹500) is applicable on all cash withdrawals. The card also charges a finance charge of 3.49% per month on any outstanding amount carried beyond the bill due date. The first year's membership fee is waived.\", metadata={'_id': ObjectId('6517ebd2aba949c4b64d3bdd'), 'source': 'https://www.tengenbank.com/personal/pay/cards/credit-cards/platinum-edge', 'title': 'platinum-edge'}),\n",
       " Document(page_content='The credit card being described offers several features and benefits. It provides welcome benefits of 1000 reward points and renewal benefits of 1000 reward points. In terms of travel, cardholders can convert their reward points into miles or vouchers for domestic airlines, saving up to ₹8000 per year. They can also redeem points for miles with over 20 international airlines through the KrisFlyer program. The card has partnerships with various airlines, allowing users to redeem rewards as air miles. In terms of dining, cardholders can enjoy 50% more reward points at premium restaurants. Rewards can be earned at a rate of 3 points for every ₹150 spent and can be exchanged for miles or gifts from an exclusive reward catalogue. The reward points are valid for two years. The card also offers a complimentary Priority Pass Membership. In terms of fuel, the card waives off 1% fuel surcharge on fuel transactions. The card also provides safety features such as EMV Chip Card technology for protection against unauthorized use and zero liability on lost cards. In terms of credit, cardholders can avail up to 50 interest-free days from the date of purchase and enjoy revolving credit at a nominal interest rate. The eligibility criteria for the card are being a salaried employee aged 21 to 60 or a self-employed individual aged 21 to 65. The annual fees for the card can be waived off by spending ₹15,000 within the first 90 days or ₹75,000 in a year. There is a cash advance fee of 2.5% with a minimum of ₹500, and interest at a rate of 3.49% is charged on any outstanding amount carried beyond the bill due date.', metadata={'_id': ObjectId('6517ebd2aba949c4b64d3be0'), 'source': 'https://www.tengenbank.com/personal/pay/cards/credit-cards/superia', 'title': 'superia'}),\n",
       " Document(page_content=\"The credit card mentioned above offers various features and benefits. Cardholders can earn 2 reward points for every ₹150 spent and get 50% more rewards for every ₹150 spent above ₹50,000 per statement cycle. They can also get up to three add-on cards for their family members. The card is equipped with EMV Chip technology for protection against fraud, and cardholders have zero liability on lost cards if reported immediately. The card provides 50 days of interest-free credit and allows easy bill payments for utilities and phone bills through SmartPay. Cash withdrawals on the card are subject to a fee of 2.5% with a minimum of ₹500, and any outstanding amount carried beyond the bill due date will be charged an interest rate of 3.49% per month. The card is available to salaried employees aged 21 to 60 or self-employed individuals aged 21 to 65. The first year's membership fee is waived.\", metadata={'_id': ObjectId('6517ebd2aba949c4b64d3bde'), 'source': 'https://www.tengenbank.com/personal/pay/cards/credit-cards/platinum-plus', 'title': 'platinum-plus'}),\n",
       " Document(page_content='The credit card mentioned above offers various features and rewards. Cardholders can earn 1 reward point for every spend of ₹150 and above, which can be redeemed for cash back or products from the catalogue. They can also redeem points for flights and hotels on Smartbuy, up to a maximum of 50% of the booking value. Cardholders can receive a gift voucher worth ₹1000 on annual spends of ₹90,000 and higher. They also get a welcome and renewal benefit of 500 reward points on fee realization. On their birthday, cardholders can earn 25X reward points, and they can earn 10X reward points on PayZapp and SmartBuy spends. Additionally, they can earn 5X reward points for spends on dining, movies, groceries, railways, and taxis. There is a cap of 1500 reward points per statement cycle for the 5X reward points, and a cap of 3000 reward points for the 25X reward points. The minimum redemption requirement for cashback is 2500 points. The card also offers a fuel convenience fee waiver of 1%, capped at ₹250 per statement cycle. Cardholders can get up to 3 add-on credit cards for free. The card is enabled for contactless payments, with zero liability on lost cards if reported immediately. The eligibility for the card is a gross monthly income of ₹12,000 for salaried employees and an income of ₹2 lakhs per annum with ITR for self-employed individuals. The annual fee can be waived if ₹50,000 is spent in a year, otherwise, the fee is ₹500. A cash advance fee of 2.5% with a minimum of ₹500 is applicable on all cash withdrawals. Interest at the rate of 3.49% per month will be charged on any outstanding amount carried beyond the bill due date. If the card is issued against a fixed deposit, the interest rate is 1.99% per month. The bank reserves the right to cancel the card if it remains inactive for 6 months.', metadata={'_id': ObjectId('6517ebd2aba949c4b64d3bd6'), 'source': 'https://www.tengenbank.com/personal/pay/cards/credit-cards/freedom-card', 'title': 'freedom-card'}),\n",
       " Document(page_content='The credit card mentioned above offers various features and benefits. Users can earn reward points on their purchases, with 3 points for every Rs 150 spent. They can also earn 50% more reward points on dining and grocery expenses. These reward points can be redeemed for exclusive gifts and offers. Additionally, users can save on shopping and earn vouchers worth Rs 1000 on spends of Rs 75000 in six months, with the opportunity to earn up to two vouchers a year. The credit card also offers the option to redeem reward points for cash back against the outstanding amount on the card, with 100 points equaling Rs 20. Users can also benefit from a fuel surcharge waiver of 1% at all fuel stations across India, with a maximum waiver of Rs 250 per statement cycle. The card also provides safety features such as EMV Chip technology for protection against unauthorized use and zero liability on lost cards if reported immediately. The eligibility criteria for the card are being a salaried employee aged 21 to 60 or a self-employed individual aged 21 to 65. The card charges an interest rate of 3.49% per month on any outstanding amount carried beyond the bill due date, which will increase to 3.6% per month (43.2% annually) from September 1, 2020. The annual membership fee is Rs 500 + GST, but it can be waived for the next year if the user spends Rs 50,000 in a year.', metadata={'_id': ObjectId('6517ebd2aba949c4b64d3bdf'), 'source': 'https://www.tengenbank.com/personal/pay/cards/credit-cards/solitaire', 'title': 'solitaire'}),\n",
       " Document(page_content=\"The mentioned credit card offers various features and benefits. On Teacher's Day (5th September) every year, cardholders receive a special gift of 500 reward points. Additionally, they can earn reward points on their spends, with 3x points on weekends for spends of ₹150 and 2 points on weekdays for the same amount. This allows cardholders to earn up to 2400 points in a year. The card also provides a fuel surcharge waiver of 1% at all fuel stations in India, with a maximum waiver of ₹250 per statement cycle for transactions between ₹400 and ₹5000. The card ensures safety with an EMV CHIP and offers zero liability on lost cards when reported immediately. Cardholders can also register with SmartPay, the bank's utility bill payment service, for easy bill payments. The card provides up to 3 lifetime free add-on cards for family members. The eligibility criteria for the card are being a salaried employee aged 21 to 60 or a self-employed individual aged 21 to 65. The card charges an interest rate of 3.49% per month on outstanding amounts carried beyond the bill due date. The annual fee for the card is ₹500 + GST per annum, but if the cardholder spends ₹50,000 annually, they can get a waiver on the next year's annual fee.\", metadata={'_id': ObjectId('6517ebd2aba949c4b64d3be1'), 'source': 'https://www.tengenbank.com/personal/pay/cards/credit-cards/teachers-platinum', 'title': 'teachers-platinum'})]"
      ]
     },
     "execution_count": 101,
     "metadata": {},
     "output_type": "execute_result"
    }
   ],
   "source": [
    "rec"
   ]
  },
  {
   "cell_type": "code",
   "execution_count": null,
   "id": "74e44c6e",
   "metadata": {},
   "outputs": [],
   "source": []
  }
 ],
 "metadata": {
  "kernelspec": {
   "display_name": "Python 3 (ipykernel)",
   "language": "python",
   "name": "python3"
  },
  "language_info": {
   "codemirror_mode": {
    "name": "ipython",
    "version": 3
   },
   "file_extension": ".py",
   "mimetype": "text/x-python",
   "name": "python",
   "nbconvert_exporter": "python",
   "pygments_lexer": "ipython3",
   "version": "3.9.17"
  }
 },
 "nbformat": 4,
 "nbformat_minor": 5
}
